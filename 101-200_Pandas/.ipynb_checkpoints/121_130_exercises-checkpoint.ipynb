{
 "cells": [
  {
   "cell_type": "markdown",
   "metadata": {
    "id": "WLEgCW5F1hho"
   },
   "source": [
    "## Pandas\n",
    "\n",
    "### Spis treści:\n",
    "* [Import biblioteki](#0)\n",
    "* [Ćwiczenie 121](#1)\n",
    "* [Ćwiczenie 122](#2)\n",
    "* [Ćwiczenie 123](#3)\n",
    "* [Ćwiczenie 124](#4)\n",
    "* [Ćwiczenie 125](#5)\n",
    "* [Ćwiczenie 126](#6)\n",
    "* [Ćwiczenie 127](#7)\n",
    "* [Ćwiczenie 128](#8)\n",
    "* [Ćwiczenie 129](#9)\n",
    "* [Ćwiczenie 130](#10)"
   ]
  },
  {
   "cell_type": "markdown",
   "metadata": {
    "id": "zeLOLmTj1kBM"
   },
   "source": [
    "### <a name='0'></a>Import biblioteki"
   ]
  },
  {
   "cell_type": "code",
   "execution_count": 1,
   "metadata": {},
   "outputs": [],
   "source": [
    "#!pip install pandas_datareader"
   ]
  },
  {
   "cell_type": "code",
   "execution_count": 2,
   "metadata": {
    "id": "HXMB7SMe1Wnz"
   },
   "outputs": [
    {
     "data": {
      "text/plain": [
       "'1.4.2'"
      ]
     },
     "execution_count": 2,
     "metadata": {},
     "output_type": "execute_result"
    }
   ],
   "source": [
    "import numpy as np\n",
    "import pandas as pd\n",
    "import seaborn as sns\n",
    "\n",
    "sns.set()\n",
    "pd.__version__"
   ]
  },
  {
   "cell_type": "markdown",
   "metadata": {
    "id": "d1KXPVTVcwTX"
   },
   "source": [
    "Funkcja _fetch_financial_data()_ pobiera dane dotyczące notowań spółek giełdowych. Będzie wykorzystywana w poniższych ćwiczeniach. Aby pobrać dane konkretnej spółki należy przekazać odpowiedni ticker (symbol) spółki.\n",
    "\n",
    "Kilka przykładowych tickerów spółek:\n",
    "* AMZN - Amazon\n",
    "* GOOGL - Google\n",
    "* MSFT - Microsoft\n",
    "* AAPL - Apple\n",
    "* NKE - Nike\n",
    "* WMT - Walmart"
   ]
  },
  {
   "cell_type": "code",
   "execution_count": 3,
   "metadata": {
    "id": "gTRegewub5oK"
   },
   "outputs": [],
   "source": [
    "def fetch_financial_data(company='AMZN'):\n",
    "    \"\"\"\n",
    "    This function fetches stock market quotations.\n",
    "    \"\"\"\n",
    "    import pandas_datareader.data as web\n",
    "    return web.DataReader(name=company, data_source='stooq')"
   ]
  },
  {
   "cell_type": "markdown",
   "metadata": {
    "id": "cyc70pMe1oCg"
   },
   "source": [
    "### <a name='1'></a> Ćwiczenie 121\n",
    "Wykorzystując funkcję _fetch_financial_data()_ pobierz notowania dla spółki Google (Alphabet) i przypisz do zmiennej _google_. Wyświetl obiekt _google_."
   ]
  },
  {
   "cell_type": "code",
   "execution_count": 4,
   "metadata": {
    "id": "LtMEvHZicna7"
   },
   "outputs": [
    {
     "data": {
      "text/html": [
       "<div>\n",
       "<style scoped>\n",
       "    .dataframe tbody tr th:only-of-type {\n",
       "        vertical-align: middle;\n",
       "    }\n",
       "\n",
       "    .dataframe tbody tr th {\n",
       "        vertical-align: top;\n",
       "    }\n",
       "\n",
       "    .dataframe thead th {\n",
       "        text-align: right;\n",
       "    }\n",
       "</style>\n",
       "<table border=\"1\" class=\"dataframe\">\n",
       "  <thead>\n",
       "    <tr style=\"text-align: right;\">\n",
       "      <th></th>\n",
       "      <th>Open</th>\n",
       "      <th>High</th>\n",
       "      <th>Low</th>\n",
       "      <th>Close</th>\n",
       "      <th>Volume</th>\n",
       "    </tr>\n",
       "    <tr>\n",
       "      <th>Date</th>\n",
       "      <th></th>\n",
       "      <th></th>\n",
       "      <th></th>\n",
       "      <th></th>\n",
       "      <th></th>\n",
       "    </tr>\n",
       "  </thead>\n",
       "  <tbody>\n",
       "    <tr>\n",
       "      <th>2023-04-13</th>\n",
       "      <td>105.8400</td>\n",
       "      <td>107.4900</td>\n",
       "      <td>105.8400</td>\n",
       "      <td>107.4300</td>\n",
       "      <td>24843579</td>\n",
       "    </tr>\n",
       "    <tr>\n",
       "      <th>2023-04-12</th>\n",
       "      <td>106.5800</td>\n",
       "      <td>106.7500</td>\n",
       "      <td>104.3400</td>\n",
       "      <td>104.6400</td>\n",
       "      <td>24370274</td>\n",
       "    </tr>\n",
       "    <tr>\n",
       "      <th>2023-04-11</th>\n",
       "      <td>106.5500</td>\n",
       "      <td>106.7300</td>\n",
       "      <td>104.6800</td>\n",
       "      <td>105.3500</td>\n",
       "      <td>26311803</td>\n",
       "    </tr>\n",
       "    <tr>\n",
       "      <th>2023-04-10</th>\n",
       "      <td>106.9800</td>\n",
       "      <td>107.5900</td>\n",
       "      <td>105.1200</td>\n",
       "      <td>106.4400</td>\n",
       "      <td>27067355</td>\n",
       "    </tr>\n",
       "    <tr>\n",
       "      <th>2023-04-06</th>\n",
       "      <td>105.2600</td>\n",
       "      <td>109.1700</td>\n",
       "      <td>104.3300</td>\n",
       "      <td>108.4200</td>\n",
       "      <td>48711480</td>\n",
       "    </tr>\n",
       "    <tr>\n",
       "      <th>...</th>\n",
       "      <td>...</td>\n",
       "      <td>...</td>\n",
       "      <td>...</td>\n",
       "      <td>...</td>\n",
       "      <td>...</td>\n",
       "    </tr>\n",
       "    <tr>\n",
       "      <th>2018-04-20</th>\n",
       "      <td>54.2135</td>\n",
       "      <td>54.7375</td>\n",
       "      <td>53.6050</td>\n",
       "      <td>53.8660</td>\n",
       "      <td>42433840</td>\n",
       "    </tr>\n",
       "    <tr>\n",
       "      <th>2018-04-19</th>\n",
       "      <td>53.4510</td>\n",
       "      <td>54.8755</td>\n",
       "      <td>53.4510</td>\n",
       "      <td>54.4725</td>\n",
       "      <td>39884940</td>\n",
       "    </tr>\n",
       "    <tr>\n",
       "      <th>2018-04-18</th>\n",
       "      <td>53.9505</td>\n",
       "      <td>54.1000</td>\n",
       "      <td>53.5260</td>\n",
       "      <td>53.7695</td>\n",
       "      <td>31125960</td>\n",
       "    </tr>\n",
       "    <tr>\n",
       "      <th>2018-04-17</th>\n",
       "      <td>53.0600</td>\n",
       "      <td>54.2500</td>\n",
       "      <td>52.8545</td>\n",
       "      <td>53.9680</td>\n",
       "      <td>54583940</td>\n",
       "    </tr>\n",
       "    <tr>\n",
       "      <th>2018-04-16</th>\n",
       "      <td>52.2775</td>\n",
       "      <td>52.5715</td>\n",
       "      <td>51.6960</td>\n",
       "      <td>52.3050</td>\n",
       "      <td>29776440</td>\n",
       "    </tr>\n",
       "  </tbody>\n",
       "</table>\n",
       "<p>1258 rows × 5 columns</p>\n",
       "</div>"
      ],
      "text/plain": [
       "                Open      High       Low     Close    Volume\n",
       "Date                                                        \n",
       "2023-04-13  105.8400  107.4900  105.8400  107.4300  24843579\n",
       "2023-04-12  106.5800  106.7500  104.3400  104.6400  24370274\n",
       "2023-04-11  106.5500  106.7300  104.6800  105.3500  26311803\n",
       "2023-04-10  106.9800  107.5900  105.1200  106.4400  27067355\n",
       "2023-04-06  105.2600  109.1700  104.3300  108.4200  48711480\n",
       "...              ...       ...       ...       ...       ...\n",
       "2018-04-20   54.2135   54.7375   53.6050   53.8660  42433840\n",
       "2018-04-19   53.4510   54.8755   53.4510   54.4725  39884940\n",
       "2018-04-18   53.9505   54.1000   53.5260   53.7695  31125960\n",
       "2018-04-17   53.0600   54.2500   52.8545   53.9680  54583940\n",
       "2018-04-16   52.2775   52.5715   51.6960   52.3050  29776440\n",
       "\n",
       "[1258 rows x 5 columns]"
      ]
     },
     "execution_count": 4,
     "metadata": {},
     "output_type": "execute_result"
    }
   ],
   "source": [
    "google = fetch_financial_data(company='GOOGL')\n",
    "google"
   ]
  },
  {
   "cell_type": "markdown",
   "metadata": {
    "id": "J9pY1rtr1sC0"
   },
   "source": [
    "### <a name='2'></a> Ćwiczenie 122\n",
    "Wyświetl podstawowe informacje na temat obiektu _google_."
   ]
  },
  {
   "cell_type": "code",
   "execution_count": 5,
   "metadata": {
    "id": "0QE4WiIDeGqy"
   },
   "outputs": [
    {
     "name": "stdout",
     "output_type": "stream",
     "text": [
      "<class 'pandas.core.frame.DataFrame'>\n",
      "DatetimeIndex: 1258 entries, 2023-04-13 to 2018-04-16\n",
      "Data columns (total 5 columns):\n",
      " #   Column  Non-Null Count  Dtype  \n",
      "---  ------  --------------  -----  \n",
      " 0   Open    1258 non-null   float64\n",
      " 1   High    1258 non-null   float64\n",
      " 2   Low     1258 non-null   float64\n",
      " 3   Close   1258 non-null   float64\n",
      " 4   Volume  1258 non-null   int64  \n",
      "dtypes: float64(4), int64(1)\n",
      "memory usage: 59.0 KB\n"
     ]
    }
   ],
   "source": [
    "google.info()"
   ]
  },
  {
   "cell_type": "markdown",
   "metadata": {
    "id": "yic8GlyieMAv"
   },
   "source": [
    "Wyświetl podstawowe statystyki o obiekcie _google_."
   ]
  },
  {
   "cell_type": "code",
   "execution_count": 6,
   "metadata": {
    "id": "8CiWPVl0eJ2B"
   },
   "outputs": [
    {
     "data": {
      "text/html": [
       "<div>\n",
       "<style scoped>\n",
       "    .dataframe tbody tr th:only-of-type {\n",
       "        vertical-align: middle;\n",
       "    }\n",
       "\n",
       "    .dataframe tbody tr th {\n",
       "        vertical-align: top;\n",
       "    }\n",
       "\n",
       "    .dataframe thead th {\n",
       "        text-align: right;\n",
       "    }\n",
       "</style>\n",
       "<table border=\"1\" class=\"dataframe\">\n",
       "  <thead>\n",
       "    <tr style=\"text-align: right;\">\n",
       "      <th></th>\n",
       "      <th>Open</th>\n",
       "      <th>High</th>\n",
       "      <th>Low</th>\n",
       "      <th>Close</th>\n",
       "      <th>Volume</th>\n",
       "    </tr>\n",
       "  </thead>\n",
       "  <tbody>\n",
       "    <tr>\n",
       "      <th>count</th>\n",
       "      <td>1258.00</td>\n",
       "      <td>1258.00</td>\n",
       "      <td>1258.00</td>\n",
       "      <td>1258.00</td>\n",
       "      <td>1.26e+03</td>\n",
       "    </tr>\n",
       "    <tr>\n",
       "      <th>mean</th>\n",
       "      <td>88.05</td>\n",
       "      <td>89.05</td>\n",
       "      <td>87.07</td>\n",
       "      <td>88.08</td>\n",
       "      <td>3.50e+07</td>\n",
       "    </tr>\n",
       "    <tr>\n",
       "      <th>std</th>\n",
       "      <td>29.95</td>\n",
       "      <td>30.25</td>\n",
       "      <td>29.60</td>\n",
       "      <td>29.92</td>\n",
       "      <td>1.57e+07</td>\n",
       "    </tr>\n",
       "    <tr>\n",
       "      <th>min</th>\n",
       "      <td>49.22</td>\n",
       "      <td>50.61</td>\n",
       "      <td>48.88</td>\n",
       "      <td>49.23</td>\n",
       "      <td>9.31e+06</td>\n",
       "    </tr>\n",
       "    <tr>\n",
       "      <th>25%</th>\n",
       "      <td>60.20</td>\n",
       "      <td>60.71</td>\n",
       "      <td>59.81</td>\n",
       "      <td>60.33</td>\n",
       "      <td>2.51e+07</td>\n",
       "    </tr>\n",
       "    <tr>\n",
       "      <th>50%</th>\n",
       "      <td>79.25</td>\n",
       "      <td>80.44</td>\n",
       "      <td>78.37</td>\n",
       "      <td>79.24</td>\n",
       "      <td>3.11e+07</td>\n",
       "    </tr>\n",
       "    <tr>\n",
       "      <th>75%</th>\n",
       "      <td>112.62</td>\n",
       "      <td>114.01</td>\n",
       "      <td>111.44</td>\n",
       "      <td>112.70</td>\n",
       "      <td>4.00e+07</td>\n",
       "    </tr>\n",
       "    <tr>\n",
       "      <th>max</th>\n",
       "      <td>151.25</td>\n",
       "      <td>151.55</td>\n",
       "      <td>148.90</td>\n",
       "      <td>149.84</td>\n",
       "      <td>1.33e+08</td>\n",
       "    </tr>\n",
       "  </tbody>\n",
       "</table>\n",
       "</div>"
      ],
      "text/plain": [
       "          Open     High      Low    Close    Volume\n",
       "count  1258.00  1258.00  1258.00  1258.00  1.26e+03\n",
       "mean     88.05    89.05    87.07    88.08  3.50e+07\n",
       "std      29.95    30.25    29.60    29.92  1.57e+07\n",
       "min      49.22    50.61    48.88    49.23  9.31e+06\n",
       "25%      60.20    60.71    59.81    60.33  2.51e+07\n",
       "50%      79.25    80.44    78.37    79.24  3.11e+07\n",
       "75%     112.62   114.01   111.44   112.70  4.00e+07\n",
       "max     151.25   151.55   148.90   149.84  1.33e+08"
      ]
     },
     "execution_count": 6,
     "metadata": {},
     "output_type": "execute_result"
    }
   ],
   "source": [
    "pd.set_option('display.precision', 2)\n",
    "google.describe()"
   ]
  },
  {
   "cell_type": "markdown",
   "metadata": {
    "id": "OwKsy3HRf1Z5"
   },
   "source": [
    "Zwróć uwagę na precyzję zapisu poszczególnych statystyk.\n",
    "Spróbuj ustawić odpowiednie opcje biblioteki _pandas_, tak aby wyświetlać dane z dokładnością do dwóch miejsc po przecinku.\n",
    "\n",
    "__Wskazówka:__ \n",
    "https://pandas.pydata.org/pandas-docs/stable/user_guide/options.html"
   ]
  },
  {
   "cell_type": "code",
   "execution_count": 7,
   "metadata": {
    "id": "mskz01W_gCy0"
   },
   "outputs": [
    {
     "data": {
      "text/html": [
       "<div>\n",
       "<style scoped>\n",
       "    .dataframe tbody tr th:only-of-type {\n",
       "        vertical-align: middle;\n",
       "    }\n",
       "\n",
       "    .dataframe tbody tr th {\n",
       "        vertical-align: top;\n",
       "    }\n",
       "\n",
       "    .dataframe thead th {\n",
       "        text-align: right;\n",
       "    }\n",
       "</style>\n",
       "<table border=\"1\" class=\"dataframe\">\n",
       "  <thead>\n",
       "    <tr style=\"text-align: right;\">\n",
       "      <th></th>\n",
       "      <th>Open</th>\n",
       "      <th>High</th>\n",
       "      <th>Low</th>\n",
       "      <th>Close</th>\n",
       "      <th>Volume</th>\n",
       "    </tr>\n",
       "  </thead>\n",
       "  <tbody>\n",
       "    <tr>\n",
       "      <th>count</th>\n",
       "      <td>1258.00</td>\n",
       "      <td>1258.00</td>\n",
       "      <td>1258.00</td>\n",
       "      <td>1258.00</td>\n",
       "      <td>1.26e+03</td>\n",
       "    </tr>\n",
       "    <tr>\n",
       "      <th>mean</th>\n",
       "      <td>88.05</td>\n",
       "      <td>89.05</td>\n",
       "      <td>87.07</td>\n",
       "      <td>88.08</td>\n",
       "      <td>3.50e+07</td>\n",
       "    </tr>\n",
       "    <tr>\n",
       "      <th>std</th>\n",
       "      <td>29.95</td>\n",
       "      <td>30.25</td>\n",
       "      <td>29.60</td>\n",
       "      <td>29.92</td>\n",
       "      <td>1.57e+07</td>\n",
       "    </tr>\n",
       "    <tr>\n",
       "      <th>min</th>\n",
       "      <td>49.22</td>\n",
       "      <td>50.61</td>\n",
       "      <td>48.88</td>\n",
       "      <td>49.23</td>\n",
       "      <td>9.31e+06</td>\n",
       "    </tr>\n",
       "    <tr>\n",
       "      <th>25%</th>\n",
       "      <td>60.20</td>\n",
       "      <td>60.71</td>\n",
       "      <td>59.81</td>\n",
       "      <td>60.33</td>\n",
       "      <td>2.51e+07</td>\n",
       "    </tr>\n",
       "    <tr>\n",
       "      <th>50%</th>\n",
       "      <td>79.25</td>\n",
       "      <td>80.44</td>\n",
       "      <td>78.37</td>\n",
       "      <td>79.24</td>\n",
       "      <td>3.11e+07</td>\n",
       "    </tr>\n",
       "    <tr>\n",
       "      <th>75%</th>\n",
       "      <td>112.62</td>\n",
       "      <td>114.01</td>\n",
       "      <td>111.44</td>\n",
       "      <td>112.70</td>\n",
       "      <td>4.00e+07</td>\n",
       "    </tr>\n",
       "    <tr>\n",
       "      <th>max</th>\n",
       "      <td>151.25</td>\n",
       "      <td>151.55</td>\n",
       "      <td>148.90</td>\n",
       "      <td>149.84</td>\n",
       "      <td>1.33e+08</td>\n",
       "    </tr>\n",
       "  </tbody>\n",
       "</table>\n",
       "</div>"
      ],
      "text/plain": [
       "          Open     High      Low    Close    Volume\n",
       "count  1258.00  1258.00  1258.00  1258.00  1.26e+03\n",
       "mean     88.05    89.05    87.07    88.08  3.50e+07\n",
       "std      29.95    30.25    29.60    29.92  1.57e+07\n",
       "min      49.22    50.61    48.88    49.23  9.31e+06\n",
       "25%      60.20    60.71    59.81    60.33  2.51e+07\n",
       "50%      79.25    80.44    78.37    79.24  3.11e+07\n",
       "75%     112.62   114.01   111.44   112.70  4.00e+07\n",
       "max     151.25   151.55   148.90   149.84  1.33e+08"
      ]
     },
     "execution_count": 7,
     "metadata": {},
     "output_type": "execute_result"
    }
   ],
   "source": [
    "pd.set_option('display.precision', 2)\n",
    "google.describe()"
   ]
  },
  {
   "cell_type": "markdown",
   "metadata": {
    "id": "iEXHrwHwheyo"
   },
   "source": [
    "__Dodatkowo:__\n",
    "Poniższe ustawienie stłumi także notację wykładniczą (patrz kolumna _Volume_)."
   ]
  },
  {
   "cell_type": "code",
   "execution_count": 8,
   "metadata": {
    "id": "qdosioVRhGfC"
   },
   "outputs": [
    {
     "data": {
      "text/html": [
       "<div>\n",
       "<style scoped>\n",
       "    .dataframe tbody tr th:only-of-type {\n",
       "        vertical-align: middle;\n",
       "    }\n",
       "\n",
       "    .dataframe tbody tr th {\n",
       "        vertical-align: top;\n",
       "    }\n",
       "\n",
       "    .dataframe thead th {\n",
       "        text-align: right;\n",
       "    }\n",
       "</style>\n",
       "<table border=\"1\" class=\"dataframe\">\n",
       "  <thead>\n",
       "    <tr style=\"text-align: right;\">\n",
       "      <th></th>\n",
       "      <th>Open</th>\n",
       "      <th>High</th>\n",
       "      <th>Low</th>\n",
       "      <th>Close</th>\n",
       "      <th>Volume</th>\n",
       "    </tr>\n",
       "  </thead>\n",
       "  <tbody>\n",
       "    <tr>\n",
       "      <th>count</th>\n",
       "      <td>1258.00</td>\n",
       "      <td>1258.00</td>\n",
       "      <td>1258.00</td>\n",
       "      <td>1258.00</td>\n",
       "      <td>1258.00</td>\n",
       "    </tr>\n",
       "    <tr>\n",
       "      <th>mean</th>\n",
       "      <td>88.05</td>\n",
       "      <td>89.05</td>\n",
       "      <td>87.07</td>\n",
       "      <td>88.08</td>\n",
       "      <td>35008839.88</td>\n",
       "    </tr>\n",
       "    <tr>\n",
       "      <th>std</th>\n",
       "      <td>29.95</td>\n",
       "      <td>30.25</td>\n",
       "      <td>29.60</td>\n",
       "      <td>29.92</td>\n",
       "      <td>15746136.93</td>\n",
       "    </tr>\n",
       "    <tr>\n",
       "      <th>min</th>\n",
       "      <td>49.22</td>\n",
       "      <td>50.61</td>\n",
       "      <td>48.88</td>\n",
       "      <td>49.23</td>\n",
       "      <td>9312760.00</td>\n",
       "    </tr>\n",
       "    <tr>\n",
       "      <th>25%</th>\n",
       "      <td>60.20</td>\n",
       "      <td>60.71</td>\n",
       "      <td>59.81</td>\n",
       "      <td>60.33</td>\n",
       "      <td>25144235.00</td>\n",
       "    </tr>\n",
       "    <tr>\n",
       "      <th>50%</th>\n",
       "      <td>79.25</td>\n",
       "      <td>80.44</td>\n",
       "      <td>78.37</td>\n",
       "      <td>79.24</td>\n",
       "      <td>31143680.00</td>\n",
       "    </tr>\n",
       "    <tr>\n",
       "      <th>75%</th>\n",
       "      <td>112.62</td>\n",
       "      <td>114.01</td>\n",
       "      <td>111.44</td>\n",
       "      <td>112.70</td>\n",
       "      <td>40006603.75</td>\n",
       "    </tr>\n",
       "    <tr>\n",
       "      <th>max</th>\n",
       "      <td>151.25</td>\n",
       "      <td>151.55</td>\n",
       "      <td>148.90</td>\n",
       "      <td>149.84</td>\n",
       "      <td>133177100.00</td>\n",
       "    </tr>\n",
       "  </tbody>\n",
       "</table>\n",
       "</div>"
      ],
      "text/plain": [
       "         Open    High     Low   Close       Volume\n",
       "count 1258.00 1258.00 1258.00 1258.00      1258.00\n",
       "mean    88.05   89.05   87.07   88.08  35008839.88\n",
       "std     29.95   30.25   29.60   29.92  15746136.93\n",
       "min     49.22   50.61   48.88   49.23   9312760.00\n",
       "25%     60.20   60.71   59.81   60.33  25144235.00\n",
       "50%     79.25   80.44   78.37   79.24  31143680.00\n",
       "75%    112.62  114.01  111.44  112.70  40006603.75\n",
       "max    151.25  151.55  148.90  149.84 133177100.00"
      ]
     },
     "execution_count": 8,
     "metadata": {},
     "output_type": "execute_result"
    }
   ],
   "source": [
    "pd.options.display.float_format = '{:.2f}'.format\n",
    "google.describe()"
   ]
  },
  {
   "cell_type": "markdown",
   "metadata": {
    "id": "p12duQuPlWSU"
   },
   "source": [
    "Zbuduj wykres ceny zamknięcia (_Close_) dla obiektu _google_."
   ]
  },
  {
   "cell_type": "code",
   "execution_count": 9,
   "metadata": {
    "id": "tmpm-uiAlKgv"
   },
   "outputs": [
    {
     "data": {
      "text/plain": [
       "<AxesSubplot:xlabel='Date'>"
      ]
     },
     "execution_count": 9,
     "metadata": {},
     "output_type": "execute_result"
    },
    {
     "data": {
      "image/png": "[encoded data removed]",
      "text/plain": [
       "<Figure size 432x288 with 1 Axes>"
      ]
     },
     "metadata": {},
     "output_type": "display_data"
    }
   ],
   "source": [
    "google['Close'].plot()"
   ]
  },
  {
   "cell_type": "markdown",
   "metadata": {
    "id": "XQLYT2m11wVG"
   },
   "source": [
    "### <a name='3'></a> Ćwiczenie 123\n",
    "Zamień indeks _Date_ na kolumnę. Przypisz trwale zmiany do zniennej _google_."
   ]
  },
  {
   "cell_type": "code",
   "execution_count": 10,
   "metadata": {
    "id": "Ac1OnxjOh3fa"
   },
   "outputs": [
    {
     "data": {
      "text/html": [
       "<div>\n",
       "<style scoped>\n",
       "    .dataframe tbody tr th:only-of-type {\n",
       "        vertical-align: middle;\n",
       "    }\n",
       "\n",
       "    .dataframe tbody tr th {\n",
       "        vertical-align: top;\n",
       "    }\n",
       "\n",
       "    .dataframe thead th {\n",
       "        text-align: right;\n",
       "    }\n",
       "</style>\n",
       "<table border=\"1\" class=\"dataframe\">\n",
       "  <thead>\n",
       "    <tr style=\"text-align: right;\">\n",
       "      <th></th>\n",
       "      <th>Date</th>\n",
       "      <th>Open</th>\n",
       "      <th>High</th>\n",
       "      <th>Low</th>\n",
       "      <th>Close</th>\n",
       "      <th>Volume</th>\n",
       "    </tr>\n",
       "  </thead>\n",
       "  <tbody>\n",
       "    <tr>\n",
       "      <th>0</th>\n",
       "      <td>2023-04-13</td>\n",
       "      <td>105.84</td>\n",
       "      <td>107.49</td>\n",
       "      <td>105.84</td>\n",
       "      <td>107.43</td>\n",
       "      <td>24843579</td>\n",
       "    </tr>\n",
       "    <tr>\n",
       "      <th>1</th>\n",
       "      <td>2023-04-12</td>\n",
       "      <td>106.58</td>\n",
       "      <td>106.75</td>\n",
       "      <td>104.34</td>\n",
       "      <td>104.64</td>\n",
       "      <td>24370274</td>\n",
       "    </tr>\n",
       "    <tr>\n",
       "      <th>2</th>\n",
       "      <td>2023-04-11</td>\n",
       "      <td>106.55</td>\n",
       "      <td>106.73</td>\n",
       "      <td>104.68</td>\n",
       "      <td>105.35</td>\n",
       "      <td>26311803</td>\n",
       "    </tr>\n",
       "    <tr>\n",
       "      <th>3</th>\n",
       "      <td>2023-04-10</td>\n",
       "      <td>106.98</td>\n",
       "      <td>107.59</td>\n",
       "      <td>105.12</td>\n",
       "      <td>106.44</td>\n",
       "      <td>27067355</td>\n",
       "    </tr>\n",
       "    <tr>\n",
       "      <th>4</th>\n",
       "      <td>2023-04-06</td>\n",
       "      <td>105.26</td>\n",
       "      <td>109.17</td>\n",
       "      <td>104.33</td>\n",
       "      <td>108.42</td>\n",
       "      <td>48711480</td>\n",
       "    </tr>\n",
       "    <tr>\n",
       "      <th>...</th>\n",
       "      <td>...</td>\n",
       "      <td>...</td>\n",
       "      <td>...</td>\n",
       "      <td>...</td>\n",
       "      <td>...</td>\n",
       "      <td>...</td>\n",
       "    </tr>\n",
       "    <tr>\n",
       "      <th>1253</th>\n",
       "      <td>2018-04-20</td>\n",
       "      <td>54.21</td>\n",
       "      <td>54.74</td>\n",
       "      <td>53.60</td>\n",
       "      <td>53.87</td>\n",
       "      <td>42433840</td>\n",
       "    </tr>\n",
       "    <tr>\n",
       "      <th>1254</th>\n",
       "      <td>2018-04-19</td>\n",
       "      <td>53.45</td>\n",
       "      <td>54.88</td>\n",
       "      <td>53.45</td>\n",
       "      <td>54.47</td>\n",
       "      <td>39884940</td>\n",
       "    </tr>\n",
       "    <tr>\n",
       "      <th>1255</th>\n",
       "      <td>2018-04-18</td>\n",
       "      <td>53.95</td>\n",
       "      <td>54.10</td>\n",
       "      <td>53.53</td>\n",
       "      <td>53.77</td>\n",
       "      <td>31125960</td>\n",
       "    </tr>\n",
       "    <tr>\n",
       "      <th>1256</th>\n",
       "      <td>2018-04-17</td>\n",
       "      <td>53.06</td>\n",
       "      <td>54.25</td>\n",
       "      <td>52.85</td>\n",
       "      <td>53.97</td>\n",
       "      <td>54583940</td>\n",
       "    </tr>\n",
       "    <tr>\n",
       "      <th>1257</th>\n",
       "      <td>2018-04-16</td>\n",
       "      <td>52.28</td>\n",
       "      <td>52.57</td>\n",
       "      <td>51.70</td>\n",
       "      <td>52.30</td>\n",
       "      <td>29776440</td>\n",
       "    </tr>\n",
       "  </tbody>\n",
       "</table>\n",
       "<p>1258 rows × 6 columns</p>\n",
       "</div>"
      ],
      "text/plain": [
       "           Date   Open   High    Low  Close    Volume\n",
       "0    2023-04-13 105.84 107.49 105.84 107.43  24843579\n",
       "1    2023-04-12 106.58 106.75 104.34 104.64  24370274\n",
       "2    2023-04-11 106.55 106.73 104.68 105.35  26311803\n",
       "3    2023-04-10 106.98 107.59 105.12 106.44  27067355\n",
       "4    2023-04-06 105.26 109.17 104.33 108.42  48711480\n",
       "...         ...    ...    ...    ...    ...       ...\n",
       "1253 2018-04-20  54.21  54.74  53.60  53.87  42433840\n",
       "1254 2018-04-19  53.45  54.88  53.45  54.47  39884940\n",
       "1255 2018-04-18  53.95  54.10  53.53  53.77  31125960\n",
       "1256 2018-04-17  53.06  54.25  52.85  53.97  54583940\n",
       "1257 2018-04-16  52.28  52.57  51.70  52.30  29776440\n",
       "\n",
       "[1258 rows x 6 columns]"
      ]
     },
     "execution_count": 10,
     "metadata": {},
     "output_type": "execute_result"
    }
   ],
   "source": [
    "google = google.reset_index()\n",
    "google"
   ]
  },
  {
   "cell_type": "markdown",
   "metadata": {
    "id": "SRfQiXpGiXBc"
   },
   "source": [
    "Przypisz dwie nowe kolumny do obiektu _google_ dodając kolumnę z aktualnym numerem miesiąca o nazwie _'Month'_ oraz z rokiem o nazwie _'Year'_."
   ]
  },
  {
   "cell_type": "code",
   "execution_count": 11,
   "metadata": {
    "id": "S32izk-BiL_q"
   },
   "outputs": [
    {
     "data": {
      "text/html": [
       "<div>\n",
       "<style scoped>\n",
       "    .dataframe tbody tr th:only-of-type {\n",
       "        vertical-align: middle;\n",
       "    }\n",
       "\n",
       "    .dataframe tbody tr th {\n",
       "        vertical-align: top;\n",
       "    }\n",
       "\n",
       "    .dataframe thead th {\n",
       "        text-align: right;\n",
       "    }\n",
       "</style>\n",
       "<table border=\"1\" class=\"dataframe\">\n",
       "  <thead>\n",
       "    <tr style=\"text-align: right;\">\n",
       "      <th></th>\n",
       "      <th>Date</th>\n",
       "      <th>Open</th>\n",
       "      <th>High</th>\n",
       "      <th>Low</th>\n",
       "      <th>Close</th>\n",
       "      <th>Volume</th>\n",
       "      <th>Month</th>\n",
       "      <th>Year</th>\n",
       "    </tr>\n",
       "  </thead>\n",
       "  <tbody>\n",
       "    <tr>\n",
       "      <th>0</th>\n",
       "      <td>2023-04-13</td>\n",
       "      <td>105.84</td>\n",
       "      <td>107.49</td>\n",
       "      <td>105.84</td>\n",
       "      <td>107.43</td>\n",
       "      <td>24843579</td>\n",
       "      <td>4</td>\n",
       "      <td>2023</td>\n",
       "    </tr>\n",
       "    <tr>\n",
       "      <th>1</th>\n",
       "      <td>2023-04-12</td>\n",
       "      <td>106.58</td>\n",
       "      <td>106.75</td>\n",
       "      <td>104.34</td>\n",
       "      <td>104.64</td>\n",
       "      <td>24370274</td>\n",
       "      <td>4</td>\n",
       "      <td>2023</td>\n",
       "    </tr>\n",
       "    <tr>\n",
       "      <th>2</th>\n",
       "      <td>2023-04-11</td>\n",
       "      <td>106.55</td>\n",
       "      <td>106.73</td>\n",
       "      <td>104.68</td>\n",
       "      <td>105.35</td>\n",
       "      <td>26311803</td>\n",
       "      <td>4</td>\n",
       "      <td>2023</td>\n",
       "    </tr>\n",
       "    <tr>\n",
       "      <th>3</th>\n",
       "      <td>2023-04-10</td>\n",
       "      <td>106.98</td>\n",
       "      <td>107.59</td>\n",
       "      <td>105.12</td>\n",
       "      <td>106.44</td>\n",
       "      <td>27067355</td>\n",
       "      <td>4</td>\n",
       "      <td>2023</td>\n",
       "    </tr>\n",
       "    <tr>\n",
       "      <th>4</th>\n",
       "      <td>2023-04-06</td>\n",
       "      <td>105.26</td>\n",
       "      <td>109.17</td>\n",
       "      <td>104.33</td>\n",
       "      <td>108.42</td>\n",
       "      <td>48711480</td>\n",
       "      <td>4</td>\n",
       "      <td>2023</td>\n",
       "    </tr>\n",
       "    <tr>\n",
       "      <th>...</th>\n",
       "      <td>...</td>\n",
       "      <td>...</td>\n",
       "      <td>...</td>\n",
       "      <td>...</td>\n",
       "      <td>...</td>\n",
       "      <td>...</td>\n",
       "      <td>...</td>\n",
       "      <td>...</td>\n",
       "    </tr>\n",
       "    <tr>\n",
       "      <th>1253</th>\n",
       "      <td>2018-04-20</td>\n",
       "      <td>54.21</td>\n",
       "      <td>54.74</td>\n",
       "      <td>53.60</td>\n",
       "      <td>53.87</td>\n",
       "      <td>42433840</td>\n",
       "      <td>4</td>\n",
       "      <td>2018</td>\n",
       "    </tr>\n",
       "    <tr>\n",
       "      <th>1254</th>\n",
       "      <td>2018-04-19</td>\n",
       "      <td>53.45</td>\n",
       "      <td>54.88</td>\n",
       "      <td>53.45</td>\n",
       "      <td>54.47</td>\n",
       "      <td>39884940</td>\n",
       "      <td>4</td>\n",
       "      <td>2018</td>\n",
       "    </tr>\n",
       "    <tr>\n",
       "      <th>1255</th>\n",
       "      <td>2018-04-18</td>\n",
       "      <td>53.95</td>\n",
       "      <td>54.10</td>\n",
       "      <td>53.53</td>\n",
       "      <td>53.77</td>\n",
       "      <td>31125960</td>\n",
       "      <td>4</td>\n",
       "      <td>2018</td>\n",
       "    </tr>\n",
       "    <tr>\n",
       "      <th>1256</th>\n",
       "      <td>2018-04-17</td>\n",
       "      <td>53.06</td>\n",
       "      <td>54.25</td>\n",
       "      <td>52.85</td>\n",
       "      <td>53.97</td>\n",
       "      <td>54583940</td>\n",
       "      <td>4</td>\n",
       "      <td>2018</td>\n",
       "    </tr>\n",
       "    <tr>\n",
       "      <th>1257</th>\n",
       "      <td>2018-04-16</td>\n",
       "      <td>52.28</td>\n",
       "      <td>52.57</td>\n",
       "      <td>51.70</td>\n",
       "      <td>52.30</td>\n",
       "      <td>29776440</td>\n",
       "      <td>4</td>\n",
       "      <td>2018</td>\n",
       "    </tr>\n",
       "  </tbody>\n",
       "</table>\n",
       "<p>1258 rows × 8 columns</p>\n",
       "</div>"
      ],
      "text/plain": [
       "           Date   Open   High    Low  Close    Volume  Month  Year\n",
       "0    2023-04-13 105.84 107.49 105.84 107.43  24843579      4  2023\n",
       "1    2023-04-12 106.58 106.75 104.34 104.64  24370274      4  2023\n",
       "2    2023-04-11 106.55 106.73 104.68 105.35  26311803      4  2023\n",
       "3    2023-04-10 106.98 107.59 105.12 106.44  27067355      4  2023\n",
       "4    2023-04-06 105.26 109.17 104.33 108.42  48711480      4  2023\n",
       "...         ...    ...    ...    ...    ...       ...    ...   ...\n",
       "1253 2018-04-20  54.21  54.74  53.60  53.87  42433840      4  2018\n",
       "1254 2018-04-19  53.45  54.88  53.45  54.47  39884940      4  2018\n",
       "1255 2018-04-18  53.95  54.10  53.53  53.77  31125960      4  2018\n",
       "1256 2018-04-17  53.06  54.25  52.85  53.97  54583940      4  2018\n",
       "1257 2018-04-16  52.28  52.57  51.70  52.30  29776440      4  2018\n",
       "\n",
       "[1258 rows x 8 columns]"
      ]
     },
     "execution_count": 11,
     "metadata": {},
     "output_type": "execute_result"
    }
   ],
   "source": [
    "google['Month'] = google[\"Date\"].dt.month\n",
    "google['Year'] = google[\"Date\"].dt.year\n",
    "google"
   ]
  },
  {
   "cell_type": "markdown",
   "metadata": {
    "id": "4xTKSUzg10MK"
   },
   "source": [
    "### <a name='4'></a> Ćwiczenie 124\n",
    "Policz średnią cenę zamknięcia (_Close_) dla poszczególnego roku (pogrupuj dane po roku - kolumna _Year_ i następnie policz wartość średnią)."
   ]
  },
  {
   "cell_type": "code",
   "execution_count": 12,
   "metadata": {
    "id": "wSFs7z0Qi3Y7"
   },
   "outputs": [
    {
     "data": {
      "text/plain": [
       "Year\n",
       "2018    56.59\n",
       "2019    59.56\n",
       "2020    73.95\n",
       "2021   124.22\n",
       "2022   114.76\n",
       "2023    97.06\n",
       "Name: Close, dtype: float64"
      ]
     },
     "execution_count": 12,
     "metadata": {},
     "output_type": "execute_result"
    }
   ],
   "source": [
    "google.groupby('Year')['Close'].mean()"
   ]
  },
  {
   "cell_type": "markdown",
   "metadata": {
    "id": "DSqQjdS4j-wl"
   },
   "source": [
    "Otrzymane wartości przedstaw na wykresie wykorzystując metodę _plot()_."
   ]
  },
  {
   "cell_type": "code",
   "execution_count": 13,
   "metadata": {
    "id": "0nBtvC2tjaTK"
   },
   "outputs": [
    {
     "data": {
      "text/plain": [
       "<AxesSubplot:xlabel='Year'>"
      ]
     },
     "execution_count": 13,
     "metadata": {},
     "output_type": "execute_result"
    },
    {
     "data": {
      "image/png": "[encoded data removed]",
      "text/plain": [
       "<Figure size 432x288 with 1 Axes>"
      ]
     },
     "metadata": {},
     "output_type": "display_data"
    }
   ],
   "source": [
    "google.groupby('Year')['Close'].mean().plot()"
   ]
  },
  {
   "cell_type": "markdown",
   "metadata": {
    "id": "RduPz9PDkR2-"
   },
   "source": [
    "Policz średnią cenę zamknięcia (_Close_) dla miesiąca (pogrupuj dane po miesiącu - kolumna _Month_ i następnie policz wartość średnią)."
   ]
  },
  {
   "cell_type": "code",
   "execution_count": 14,
   "metadata": {
    "id": "4Vd83xT_kIsg"
   },
   "outputs": [
    {
     "data": {
      "text/plain": [
       "Month\n",
       "1    88.45\n",
       "2    93.05\n",
       "3    91.62\n",
       "4    87.82\n",
       "5    81.15\n",
       "6    83.85\n",
       "7    86.31\n",
       "8    90.70\n",
       "9    88.91\n",
       "10   85.65\n",
       "11   89.51\n",
       "12   90.29\n",
       "Name: Close, dtype: float64"
      ]
     },
     "execution_count": 14,
     "metadata": {},
     "output_type": "execute_result"
    }
   ],
   "source": [
    "google.groupby('Month')['Close'].mean()"
   ]
  },
  {
   "cell_type": "markdown",
   "metadata": {
    "id": "ytITHhjjkaoO"
   },
   "source": [
    "Otrzymane wartości przedstaw na wykresie wykorzystując metodę _plot()_.\n",
    "Zauważ, które miesiące mogą wskazywać na słabsze okresy na giełdzie."
   ]
  },
  {
   "cell_type": "code",
   "execution_count": 15,
   "metadata": {
    "id": "ob02yPQRkK3E"
   },
   "outputs": [
    {
     "data": {
      "text/plain": [
       "<AxesSubplot:xlabel='Month'>"
      ]
     },
     "execution_count": 15,
     "metadata": {},
     "output_type": "execute_result"
    },
    {
     "data": {
      "image/png": "[encoded data removed]",
      "text/plain": [
       "<Figure size 432x288 with 1 Axes>"
      ]
     },
     "metadata": {},
     "output_type": "display_data"
    }
   ],
   "source": [
    "google.groupby('Month')['Close'].mean().plot()"
   ]
  },
  {
   "cell_type": "markdown",
   "metadata": {
    "id": "o3HKIKlP15Ro"
   },
   "source": [
    "### <a name='5'></a> Ćwiczenie 125\n",
    "Pogrupuj dane z obiektu _google_ na poziomie roku i miesiąca. Następnie policz wartość średnią."
   ]
  },
  {
   "cell_type": "code",
   "execution_count": 16,
   "metadata": {
    "id": "DptCcOtNkokd"
   },
   "outputs": [
    {
     "data": {
      "text/plain": [
       "Year  Month\n",
       "2018  4        52.64\n",
       "      5        53.74\n",
       "      6        57.47\n",
       "      7        60.06\n",
       "      8        62.03\n",
       "               ...  \n",
       "2022  12       92.32\n",
       "2023  1        93.04\n",
       "      2        96.42\n",
       "      3        98.06\n",
       "      4       105.73\n",
       "Name: Close, Length: 61, dtype: float64"
      ]
     },
     "execution_count": 16,
     "metadata": {},
     "output_type": "execute_result"
    }
   ],
   "source": [
    "google.groupby(['Year', 'Month'])['Close'].mean()"
   ]
  },
  {
   "cell_type": "markdown",
   "metadata": {
    "id": "PunXd_Ey16so"
   },
   "source": [
    "### <a name='6'></a> Ćwiczenie 126\n",
    "Znajdź indeks dla którego kolumna _Close_ przyjmuje wartość największą."
   ]
  },
  {
   "cell_type": "code",
   "execution_count": 17,
   "metadata": {
    "id": "PIUT3b7Rm7v1"
   },
   "outputs": [
    {
     "data": {
      "text/plain": [
       "350"
      ]
     },
     "execution_count": 17,
     "metadata": {},
     "output_type": "execute_result"
    }
   ],
   "source": [
    "google['Close'].argmax()"
   ]
  },
  {
   "cell_type": "markdown",
   "metadata": {
    "id": "WETiC6NEnPm0"
   },
   "source": [
    "Wytnij wiersz dla tego indeksu z obiektu _google_ jako obiekt DataFrame. Odczytaj datę."
   ]
  },
  {
   "cell_type": "code",
   "execution_count": 18,
   "metadata": {
    "id": "XccuGttMnL_d"
   },
   "outputs": [
    {
     "data": {
      "text/html": [
       "<div>\n",
       "<style scoped>\n",
       "    .dataframe tbody tr th:only-of-type {\n",
       "        vertical-align: middle;\n",
       "    }\n",
       "\n",
       "    .dataframe tbody tr th {\n",
       "        vertical-align: top;\n",
       "    }\n",
       "\n",
       "    .dataframe thead th {\n",
       "        text-align: right;\n",
       "    }\n",
       "</style>\n",
       "<table border=\"1\" class=\"dataframe\">\n",
       "  <thead>\n",
       "    <tr style=\"text-align: right;\">\n",
       "      <th></th>\n",
       "      <th>Date</th>\n",
       "      <th>Open</th>\n",
       "      <th>High</th>\n",
       "      <th>Low</th>\n",
       "      <th>Close</th>\n",
       "      <th>Volume</th>\n",
       "      <th>Month</th>\n",
       "      <th>Year</th>\n",
       "    </tr>\n",
       "  </thead>\n",
       "  <tbody>\n",
       "    <tr>\n",
       "      <th>350</th>\n",
       "      <td>2021-11-18</td>\n",
       "      <td>148.24</td>\n",
       "      <td>150.58</td>\n",
       "      <td>147.88</td>\n",
       "      <td>149.84</td>\n",
       "      <td>35628220</td>\n",
       "      <td>11</td>\n",
       "      <td>2021</td>\n",
       "    </tr>\n",
       "  </tbody>\n",
       "</table>\n",
       "</div>"
      ],
      "text/plain": [
       "          Date   Open   High    Low  Close    Volume  Month  Year\n",
       "350 2021-11-18 148.24 150.58 147.88 149.84  35628220     11  2021"
      ]
     },
     "execution_count": 18,
     "metadata": {},
     "output_type": "execute_result"
    }
   ],
   "source": [
    "google.iloc[[google['Close'].argmax()]]"
   ]
  },
  {
   "cell_type": "markdown",
   "metadata": {
    "id": "hOhqDRz618Tx"
   },
   "source": [
    "### <a name='7'></a> Ćwiczenie 127\n",
    "Z obiektu _google_ wytnij kolumny _Date_, _Open_, _Close_, _Volume_.\n",
    "Nie zmieniaj pierwotnego obiektu _google_!\n"
   ]
  },
  {
   "cell_type": "code",
   "execution_count": 19,
   "metadata": {
    "id": "P17Vtv4imw28"
   },
   "outputs": [
    {
     "data": {
      "text/html": [
       "<div>\n",
       "<style scoped>\n",
       "    .dataframe tbody tr th:only-of-type {\n",
       "        vertical-align: middle;\n",
       "    }\n",
       "\n",
       "    .dataframe tbody tr th {\n",
       "        vertical-align: top;\n",
       "    }\n",
       "\n",
       "    .dataframe thead th {\n",
       "        text-align: right;\n",
       "    }\n",
       "</style>\n",
       "<table border=\"1\" class=\"dataframe\">\n",
       "  <thead>\n",
       "    <tr style=\"text-align: right;\">\n",
       "      <th></th>\n",
       "      <th>Date</th>\n",
       "      <th>Open</th>\n",
       "      <th>Close</th>\n",
       "      <th>Volume</th>\n",
       "    </tr>\n",
       "  </thead>\n",
       "  <tbody>\n",
       "    <tr>\n",
       "      <th>0</th>\n",
       "      <td>2023-04-13</td>\n",
       "      <td>105.84</td>\n",
       "      <td>107.43</td>\n",
       "      <td>24843579</td>\n",
       "    </tr>\n",
       "    <tr>\n",
       "      <th>1</th>\n",
       "      <td>2023-04-12</td>\n",
       "      <td>106.58</td>\n",
       "      <td>104.64</td>\n",
       "      <td>24370274</td>\n",
       "    </tr>\n",
       "    <tr>\n",
       "      <th>2</th>\n",
       "      <td>2023-04-11</td>\n",
       "      <td>106.55</td>\n",
       "      <td>105.35</td>\n",
       "      <td>26311803</td>\n",
       "    </tr>\n",
       "    <tr>\n",
       "      <th>3</th>\n",
       "      <td>2023-04-10</td>\n",
       "      <td>106.98</td>\n",
       "      <td>106.44</td>\n",
       "      <td>27067355</td>\n",
       "    </tr>\n",
       "    <tr>\n",
       "      <th>4</th>\n",
       "      <td>2023-04-06</td>\n",
       "      <td>105.26</td>\n",
       "      <td>108.42</td>\n",
       "      <td>48711480</td>\n",
       "    </tr>\n",
       "    <tr>\n",
       "      <th>...</th>\n",
       "      <td>...</td>\n",
       "      <td>...</td>\n",
       "      <td>...</td>\n",
       "      <td>...</td>\n",
       "    </tr>\n",
       "    <tr>\n",
       "      <th>1253</th>\n",
       "      <td>2018-04-20</td>\n",
       "      <td>54.21</td>\n",
       "      <td>53.87</td>\n",
       "      <td>42433840</td>\n",
       "    </tr>\n",
       "    <tr>\n",
       "      <th>1254</th>\n",
       "      <td>2018-04-19</td>\n",
       "      <td>53.45</td>\n",
       "      <td>54.47</td>\n",
       "      <td>39884940</td>\n",
       "    </tr>\n",
       "    <tr>\n",
       "      <th>1255</th>\n",
       "      <td>2018-04-18</td>\n",
       "      <td>53.95</td>\n",
       "      <td>53.77</td>\n",
       "      <td>31125960</td>\n",
       "    </tr>\n",
       "    <tr>\n",
       "      <th>1256</th>\n",
       "      <td>2018-04-17</td>\n",
       "      <td>53.06</td>\n",
       "      <td>53.97</td>\n",
       "      <td>54583940</td>\n",
       "    </tr>\n",
       "    <tr>\n",
       "      <th>1257</th>\n",
       "      <td>2018-04-16</td>\n",
       "      <td>52.28</td>\n",
       "      <td>52.30</td>\n",
       "      <td>29776440</td>\n",
       "    </tr>\n",
       "  </tbody>\n",
       "</table>\n",
       "<p>1258 rows × 4 columns</p>\n",
       "</div>"
      ],
      "text/plain": [
       "           Date   Open  Close    Volume\n",
       "0    2023-04-13 105.84 107.43  24843579\n",
       "1    2023-04-12 106.58 104.64  24370274\n",
       "2    2023-04-11 106.55 105.35  26311803\n",
       "3    2023-04-10 106.98 106.44  27067355\n",
       "4    2023-04-06 105.26 108.42  48711480\n",
       "...         ...    ...    ...       ...\n",
       "1253 2018-04-20  54.21  53.87  42433840\n",
       "1254 2018-04-19  53.45  54.47  39884940\n",
       "1255 2018-04-18  53.95  53.77  31125960\n",
       "1256 2018-04-17  53.06  53.97  54583940\n",
       "1257 2018-04-16  52.28  52.30  29776440\n",
       "\n",
       "[1258 rows x 4 columns]"
      ]
     },
     "execution_count": 19,
     "metadata": {},
     "output_type": "execute_result"
    }
   ],
   "source": [
    "google[['Date', 'Open', 'Close', 'Volume']]"
   ]
  },
  {
   "cell_type": "markdown",
   "metadata": {
    "id": "TXUd_4631-gw"
   },
   "source": [
    "### <a name='8'></a> Ćwiczenie 128\n",
    "Ustaw z powrotem indeks dla kolumny _Date_. Wyświetl obiekt _google_."
   ]
  },
  {
   "cell_type": "code",
   "execution_count": 20,
   "metadata": {
    "id": "E4zwlRNFoMMz"
   },
   "outputs": [
    {
     "data": {
      "text/html": [
       "<div>\n",
       "<style scoped>\n",
       "    .dataframe tbody tr th:only-of-type {\n",
       "        vertical-align: middle;\n",
       "    }\n",
       "\n",
       "    .dataframe tbody tr th {\n",
       "        vertical-align: top;\n",
       "    }\n",
       "\n",
       "    .dataframe thead th {\n",
       "        text-align: right;\n",
       "    }\n",
       "</style>\n",
       "<table border=\"1\" class=\"dataframe\">\n",
       "  <thead>\n",
       "    <tr style=\"text-align: right;\">\n",
       "      <th></th>\n",
       "      <th>Open</th>\n",
       "      <th>High</th>\n",
       "      <th>Low</th>\n",
       "      <th>Close</th>\n",
       "      <th>Volume</th>\n",
       "      <th>Month</th>\n",
       "      <th>Year</th>\n",
       "    </tr>\n",
       "    <tr>\n",
       "      <th>Date</th>\n",
       "      <th></th>\n",
       "      <th></th>\n",
       "      <th></th>\n",
       "      <th></th>\n",
       "      <th></th>\n",
       "      <th></th>\n",
       "      <th></th>\n",
       "    </tr>\n",
       "  </thead>\n",
       "  <tbody>\n",
       "    <tr>\n",
       "      <th>2023-04-13</th>\n",
       "      <td>105.84</td>\n",
       "      <td>107.49</td>\n",
       "      <td>105.84</td>\n",
       "      <td>107.43</td>\n",
       "      <td>24843579</td>\n",
       "      <td>4</td>\n",
       "      <td>2023</td>\n",
       "    </tr>\n",
       "    <tr>\n",
       "      <th>2023-04-12</th>\n",
       "      <td>106.58</td>\n",
       "      <td>106.75</td>\n",
       "      <td>104.34</td>\n",
       "      <td>104.64</td>\n",
       "      <td>24370274</td>\n",
       "      <td>4</td>\n",
       "      <td>2023</td>\n",
       "    </tr>\n",
       "    <tr>\n",
       "      <th>2023-04-11</th>\n",
       "      <td>106.55</td>\n",
       "      <td>106.73</td>\n",
       "      <td>104.68</td>\n",
       "      <td>105.35</td>\n",
       "      <td>26311803</td>\n",
       "      <td>4</td>\n",
       "      <td>2023</td>\n",
       "    </tr>\n",
       "    <tr>\n",
       "      <th>2023-04-10</th>\n",
       "      <td>106.98</td>\n",
       "      <td>107.59</td>\n",
       "      <td>105.12</td>\n",
       "      <td>106.44</td>\n",
       "      <td>27067355</td>\n",
       "      <td>4</td>\n",
       "      <td>2023</td>\n",
       "    </tr>\n",
       "    <tr>\n",
       "      <th>2023-04-06</th>\n",
       "      <td>105.26</td>\n",
       "      <td>109.17</td>\n",
       "      <td>104.33</td>\n",
       "      <td>108.42</td>\n",
       "      <td>48711480</td>\n",
       "      <td>4</td>\n",
       "      <td>2023</td>\n",
       "    </tr>\n",
       "    <tr>\n",
       "      <th>...</th>\n",
       "      <td>...</td>\n",
       "      <td>...</td>\n",
       "      <td>...</td>\n",
       "      <td>...</td>\n",
       "      <td>...</td>\n",
       "      <td>...</td>\n",
       "      <td>...</td>\n",
       "    </tr>\n",
       "    <tr>\n",
       "      <th>2018-04-20</th>\n",
       "      <td>54.21</td>\n",
       "      <td>54.74</td>\n",
       "      <td>53.60</td>\n",
       "      <td>53.87</td>\n",
       "      <td>42433840</td>\n",
       "      <td>4</td>\n",
       "      <td>2018</td>\n",
       "    </tr>\n",
       "    <tr>\n",
       "      <th>2018-04-19</th>\n",
       "      <td>53.45</td>\n",
       "      <td>54.88</td>\n",
       "      <td>53.45</td>\n",
       "      <td>54.47</td>\n",
       "      <td>39884940</td>\n",
       "      <td>4</td>\n",
       "      <td>2018</td>\n",
       "    </tr>\n",
       "    <tr>\n",
       "      <th>2018-04-18</th>\n",
       "      <td>53.95</td>\n",
       "      <td>54.10</td>\n",
       "      <td>53.53</td>\n",
       "      <td>53.77</td>\n",
       "      <td>31125960</td>\n",
       "      <td>4</td>\n",
       "      <td>2018</td>\n",
       "    </tr>\n",
       "    <tr>\n",
       "      <th>2018-04-17</th>\n",
       "      <td>53.06</td>\n",
       "      <td>54.25</td>\n",
       "      <td>52.85</td>\n",
       "      <td>53.97</td>\n",
       "      <td>54583940</td>\n",
       "      <td>4</td>\n",
       "      <td>2018</td>\n",
       "    </tr>\n",
       "    <tr>\n",
       "      <th>2018-04-16</th>\n",
       "      <td>52.28</td>\n",
       "      <td>52.57</td>\n",
       "      <td>51.70</td>\n",
       "      <td>52.30</td>\n",
       "      <td>29776440</td>\n",
       "      <td>4</td>\n",
       "      <td>2018</td>\n",
       "    </tr>\n",
       "  </tbody>\n",
       "</table>\n",
       "<p>1258 rows × 7 columns</p>\n",
       "</div>"
      ],
      "text/plain": [
       "             Open   High    Low  Close    Volume  Month  Year\n",
       "Date                                                         \n",
       "2023-04-13 105.84 107.49 105.84 107.43  24843579      4  2023\n",
       "2023-04-12 106.58 106.75 104.34 104.64  24370274      4  2023\n",
       "2023-04-11 106.55 106.73 104.68 105.35  26311803      4  2023\n",
       "2023-04-10 106.98 107.59 105.12 106.44  27067355      4  2023\n",
       "2023-04-06 105.26 109.17 104.33 108.42  48711480      4  2023\n",
       "...           ...    ...    ...    ...       ...    ...   ...\n",
       "2018-04-20  54.21  54.74  53.60  53.87  42433840      4  2018\n",
       "2018-04-19  53.45  54.88  53.45  54.47  39884940      4  2018\n",
       "2018-04-18  53.95  54.10  53.53  53.77  31125960      4  2018\n",
       "2018-04-17  53.06  54.25  52.85  53.97  54583940      4  2018\n",
       "2018-04-16  52.28  52.57  51.70  52.30  29776440      4  2018\n",
       "\n",
       "[1258 rows x 7 columns]"
      ]
     },
     "execution_count": 20,
     "metadata": {},
     "output_type": "execute_result"
    }
   ],
   "source": [
    "google = google.set_index('Date')\n",
    "google"
   ]
  },
  {
   "cell_type": "markdown",
   "metadata": {
    "id": "tgI6xEn-2AQo"
   },
   "source": [
    "### <a name='9'></a> Ćwiczenie 129\n",
    "Usuń na stałe kolumny _Year_ i _Month_ z obiektu _google_. Wyświetl obiekt _google_."
   ]
  },
  {
   "cell_type": "code",
   "execution_count": 23,
   "metadata": {
    "id": "Qpy5zTecoY1T"
   },
   "outputs": [
    {
     "data": {
      "text/html": [
       "<div>\n",
       "<style scoped>\n",
       "    .dataframe tbody tr th:only-of-type {\n",
       "        vertical-align: middle;\n",
       "    }\n",
       "\n",
       "    .dataframe tbody tr th {\n",
       "        vertical-align: top;\n",
       "    }\n",
       "\n",
       "    .dataframe thead th {\n",
       "        text-align: right;\n",
       "    }\n",
       "</style>\n",
       "<table border=\"1\" class=\"dataframe\">\n",
       "  <thead>\n",
       "    <tr style=\"text-align: right;\">\n",
       "      <th></th>\n",
       "      <th>Open</th>\n",
       "      <th>High</th>\n",
       "      <th>Low</th>\n",
       "      <th>Close</th>\n",
       "      <th>Volume</th>\n",
       "    </tr>\n",
       "    <tr>\n",
       "      <th>Date</th>\n",
       "      <th></th>\n",
       "      <th></th>\n",
       "      <th></th>\n",
       "      <th></th>\n",
       "      <th></th>\n",
       "    </tr>\n",
       "  </thead>\n",
       "  <tbody>\n",
       "    <tr>\n",
       "      <th>2023-04-13</th>\n",
       "      <td>105.84</td>\n",
       "      <td>107.49</td>\n",
       "      <td>105.84</td>\n",
       "      <td>107.43</td>\n",
       "      <td>24843579</td>\n",
       "    </tr>\n",
       "    <tr>\n",
       "      <th>2023-04-12</th>\n",
       "      <td>106.58</td>\n",
       "      <td>106.75</td>\n",
       "      <td>104.34</td>\n",
       "      <td>104.64</td>\n",
       "      <td>24370274</td>\n",
       "    </tr>\n",
       "    <tr>\n",
       "      <th>2023-04-11</th>\n",
       "      <td>106.55</td>\n",
       "      <td>106.73</td>\n",
       "      <td>104.68</td>\n",
       "      <td>105.35</td>\n",
       "      <td>26311803</td>\n",
       "    </tr>\n",
       "    <tr>\n",
       "      <th>2023-04-10</th>\n",
       "      <td>106.98</td>\n",
       "      <td>107.59</td>\n",
       "      <td>105.12</td>\n",
       "      <td>106.44</td>\n",
       "      <td>27067355</td>\n",
       "    </tr>\n",
       "    <tr>\n",
       "      <th>2023-04-06</th>\n",
       "      <td>105.26</td>\n",
       "      <td>109.17</td>\n",
       "      <td>104.33</td>\n",
       "      <td>108.42</td>\n",
       "      <td>48711480</td>\n",
       "    </tr>\n",
       "    <tr>\n",
       "      <th>...</th>\n",
       "      <td>...</td>\n",
       "      <td>...</td>\n",
       "      <td>...</td>\n",
       "      <td>...</td>\n",
       "      <td>...</td>\n",
       "    </tr>\n",
       "    <tr>\n",
       "      <th>2018-04-20</th>\n",
       "      <td>54.21</td>\n",
       "      <td>54.74</td>\n",
       "      <td>53.60</td>\n",
       "      <td>53.87</td>\n",
       "      <td>42433840</td>\n",
       "    </tr>\n",
       "    <tr>\n",
       "      <th>2018-04-19</th>\n",
       "      <td>53.45</td>\n",
       "      <td>54.88</td>\n",
       "      <td>53.45</td>\n",
       "      <td>54.47</td>\n",
       "      <td>39884940</td>\n",
       "    </tr>\n",
       "    <tr>\n",
       "      <th>2018-04-18</th>\n",
       "      <td>53.95</td>\n",
       "      <td>54.10</td>\n",
       "      <td>53.53</td>\n",
       "      <td>53.77</td>\n",
       "      <td>31125960</td>\n",
       "    </tr>\n",
       "    <tr>\n",
       "      <th>2018-04-17</th>\n",
       "      <td>53.06</td>\n",
       "      <td>54.25</td>\n",
       "      <td>52.85</td>\n",
       "      <td>53.97</td>\n",
       "      <td>54583940</td>\n",
       "    </tr>\n",
       "    <tr>\n",
       "      <th>2018-04-16</th>\n",
       "      <td>52.28</td>\n",
       "      <td>52.57</td>\n",
       "      <td>51.70</td>\n",
       "      <td>52.30</td>\n",
       "      <td>29776440</td>\n",
       "    </tr>\n",
       "  </tbody>\n",
       "</table>\n",
       "<p>1258 rows × 5 columns</p>\n",
       "</div>"
      ],
      "text/plain": [
       "             Open   High    Low  Close    Volume\n",
       "Date                                            \n",
       "2023-04-13 105.84 107.49 105.84 107.43  24843579\n",
       "2023-04-12 106.58 106.75 104.34 104.64  24370274\n",
       "2023-04-11 106.55 106.73 104.68 105.35  26311803\n",
       "2023-04-10 106.98 107.59 105.12 106.44  27067355\n",
       "2023-04-06 105.26 109.17 104.33 108.42  48711480\n",
       "...           ...    ...    ...    ...       ...\n",
       "2018-04-20  54.21  54.74  53.60  53.87  42433840\n",
       "2018-04-19  53.45  54.88  53.45  54.47  39884940\n",
       "2018-04-18  53.95  54.10  53.53  53.77  31125960\n",
       "2018-04-17  53.06  54.25  52.85  53.97  54583940\n",
       "2018-04-16  52.28  52.57  51.70  52.30  29776440\n",
       "\n",
       "[1258 rows x 5 columns]"
      ]
     },
     "execution_count": 23,
     "metadata": {},
     "output_type": "execute_result"
    }
   ],
   "source": [
    "google = google.drop(columns=['Month', 'Year'])\n",
    "google"
   ]
  },
  {
   "cell_type": "markdown",
   "metadata": {
    "id": "wxhpf-uq2B1I"
   },
   "source": [
    "### <a name='10'></a> Ćwiczenie 130\n",
    "Przypisz polskie nazwy kolumn (bez polskich znaków):\n",
    "* Open -> Otwarcie\n",
    "* High -> Najwyzszy\n",
    "* Low -> Najnizszy\n",
    "* Close -> Zamkniecie\n",
    "* Volume -> Wolumen\n",
    "\n",
    "do obiektu _google_. Wyświetl obiekt _google_."
   ]
  },
  {
   "cell_type": "code",
   "execution_count": 27,
   "metadata": {
    "id": "YFc0KW6URsuc"
   },
   "outputs": [
    {
     "data": {
      "text/html": [
       "<div>\n",
       "<style scoped>\n",
       "    .dataframe tbody tr th:only-of-type {\n",
       "        vertical-align: middle;\n",
       "    }\n",
       "\n",
       "    .dataframe tbody tr th {\n",
       "        vertical-align: top;\n",
       "    }\n",
       "\n",
       "    .dataframe thead th {\n",
       "        text-align: right;\n",
       "    }\n",
       "</style>\n",
       "<table border=\"1\" class=\"dataframe\">\n",
       "  <thead>\n",
       "    <tr style=\"text-align: right;\">\n",
       "      <th></th>\n",
       "      <th>Otwarcie</th>\n",
       "      <th>Najwyzszy</th>\n",
       "      <th>Najnizszy</th>\n",
       "      <th>Zamkniecie</th>\n",
       "      <th>Wolumen</th>\n",
       "    </tr>\n",
       "    <tr>\n",
       "      <th>Date</th>\n",
       "      <th></th>\n",
       "      <th></th>\n",
       "      <th></th>\n",
       "      <th></th>\n",
       "      <th></th>\n",
       "    </tr>\n",
       "  </thead>\n",
       "  <tbody>\n",
       "    <tr>\n",
       "      <th>2023-04-13</th>\n",
       "      <td>105.84</td>\n",
       "      <td>107.49</td>\n",
       "      <td>105.84</td>\n",
       "      <td>107.43</td>\n",
       "      <td>24843579</td>\n",
       "    </tr>\n",
       "    <tr>\n",
       "      <th>2023-04-12</th>\n",
       "      <td>106.58</td>\n",
       "      <td>106.75</td>\n",
       "      <td>104.34</td>\n",
       "      <td>104.64</td>\n",
       "      <td>24370274</td>\n",
       "    </tr>\n",
       "    <tr>\n",
       "      <th>2023-04-11</th>\n",
       "      <td>106.55</td>\n",
       "      <td>106.73</td>\n",
       "      <td>104.68</td>\n",
       "      <td>105.35</td>\n",
       "      <td>26311803</td>\n",
       "    </tr>\n",
       "    <tr>\n",
       "      <th>2023-04-10</th>\n",
       "      <td>106.98</td>\n",
       "      <td>107.59</td>\n",
       "      <td>105.12</td>\n",
       "      <td>106.44</td>\n",
       "      <td>27067355</td>\n",
       "    </tr>\n",
       "    <tr>\n",
       "      <th>2023-04-06</th>\n",
       "      <td>105.26</td>\n",
       "      <td>109.17</td>\n",
       "      <td>104.33</td>\n",
       "      <td>108.42</td>\n",
       "      <td>48711480</td>\n",
       "    </tr>\n",
       "    <tr>\n",
       "      <th>...</th>\n",
       "      <td>...</td>\n",
       "      <td>...</td>\n",
       "      <td>...</td>\n",
       "      <td>...</td>\n",
       "      <td>...</td>\n",
       "    </tr>\n",
       "    <tr>\n",
       "      <th>2018-04-20</th>\n",
       "      <td>54.21</td>\n",
       "      <td>54.74</td>\n",
       "      <td>53.60</td>\n",
       "      <td>53.87</td>\n",
       "      <td>42433840</td>\n",
       "    </tr>\n",
       "    <tr>\n",
       "      <th>2018-04-19</th>\n",
       "      <td>53.45</td>\n",
       "      <td>54.88</td>\n",
       "      <td>53.45</td>\n",
       "      <td>54.47</td>\n",
       "      <td>39884940</td>\n",
       "    </tr>\n",
       "    <tr>\n",
       "      <th>2018-04-18</th>\n",
       "      <td>53.95</td>\n",
       "      <td>54.10</td>\n",
       "      <td>53.53</td>\n",
       "      <td>53.77</td>\n",
       "      <td>31125960</td>\n",
       "    </tr>\n",
       "    <tr>\n",
       "      <th>2018-04-17</th>\n",
       "      <td>53.06</td>\n",
       "      <td>54.25</td>\n",
       "      <td>52.85</td>\n",
       "      <td>53.97</td>\n",
       "      <td>54583940</td>\n",
       "    </tr>\n",
       "    <tr>\n",
       "      <th>2018-04-16</th>\n",
       "      <td>52.28</td>\n",
       "      <td>52.57</td>\n",
       "      <td>51.70</td>\n",
       "      <td>52.30</td>\n",
       "      <td>29776440</td>\n",
       "    </tr>\n",
       "  </tbody>\n",
       "</table>\n",
       "<p>1258 rows × 5 columns</p>\n",
       "</div>"
      ],
      "text/plain": [
       "            Otwarcie  Najwyzszy  Najnizszy  Zamkniecie   Wolumen\n",
       "Date                                                            \n",
       "2023-04-13    105.84     107.49     105.84      107.43  24843579\n",
       "2023-04-12    106.58     106.75     104.34      104.64  24370274\n",
       "2023-04-11    106.55     106.73     104.68      105.35  26311803\n",
       "2023-04-10    106.98     107.59     105.12      106.44  27067355\n",
       "2023-04-06    105.26     109.17     104.33      108.42  48711480\n",
       "...              ...        ...        ...         ...       ...\n",
       "2018-04-20     54.21      54.74      53.60       53.87  42433840\n",
       "2018-04-19     53.45      54.88      53.45       54.47  39884940\n",
       "2018-04-18     53.95      54.10      53.53       53.77  31125960\n",
       "2018-04-17     53.06      54.25      52.85       53.97  54583940\n",
       "2018-04-16     52.28      52.57      51.70       52.30  29776440\n",
       "\n",
       "[1258 rows x 5 columns]"
      ]
     },
     "execution_count": 27,
     "metadata": {},
     "output_type": "execute_result"
    }
   ],
   "source": [
    "google.columns = ['Otwarcie', 'Najwyzszy', 'Najnizszy', 'Zamkniecie', 'Wolumen']\n",
    "google"
   ]
  }
 ],
 "metadata": {
  "colab": {
   "provenance": []
  },
  "kernelspec": {
   "display_name": "Python 3 (ipykernel)",
   "language": "python",
   "name": "python3"
  },
  "language_info": {
   "codemirror_mode": {
    "name": "ipython",
    "version": 3
   },
   "file_extension": ".py",
   "mimetype": "text/x-python",
   "name": "python",
   "nbconvert_exporter": "python",
   "pygments_lexer": "ipython3",
   "version": "3.9.12"
  }
 },
 "nbformat": 4,
 "nbformat_minor": 1
}
