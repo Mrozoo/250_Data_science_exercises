{
 "cells": [
  {
   "cell_type": "markdown",
   "metadata": {
    "id": "WLEgCW5F1hho"
   },
   "source": [
    "## Pandas\n",
    "\n",
    "### Spis treści:\n",
    "* [Import biblioteki](#0)\n",
    "* [Ćwiczenie 141](#1)\n",
    "* [Ćwiczenie 142](#2)\n",
    "* [Ćwiczenie 143](#3)\n",
    "* [Ćwiczenie 144](#4)\n",
    "* [Ćwiczenie 145](#5)\n",
    "* [Ćwiczenie 146](#6)\n",
    "* [Ćwiczenie 147](#7)\n",
    "* [Ćwiczenie 148](#8)\n",
    "* [Ćwiczenie 149](#9)\n",
    "* [Ćwiczenie 150](#10)"
   ]
  },
  {
   "cell_type": "markdown",
   "metadata": {
    "id": "zeLOLmTj1kBM"
   },
   "source": [
    "### <a name='0'></a>Import biblioteki"
   ]
  },
  {
   "cell_type": "code",
   "execution_count": 1,
   "metadata": {
    "id": "HXMB7SMe1Wnz"
   },
   "outputs": [
    {
     "data": {
      "text/plain": [
       "'1.24.2'"
      ]
     },
     "execution_count": 1,
     "metadata": {},
     "output_type": "execute_result"
    }
   ],
   "source": [
    "import numpy as np\n",
    "import pandas as pd\n",
    "\n",
    "np.random.seed(42)\n",
    "np.__version__"
   ]
  },
  {
   "cell_type": "markdown",
   "metadata": {
    "id": "cyc70pMe1oCg"
   },
   "source": [
    "### <a name='1'></a> Ćwiczenie 141\n",
    "Podane są dwa obiekty typu _Series_:\n",
    "\n",
    "```\n",
    "s1 = pd.Series(np.random.rand(20))\n",
    "s2 = pd.Series(np.random.randn(20))\n",
    "```\n",
    "Połącz te dwa obiekty w jeden obiekt typu _DataFrame_ (jako dwie kolumny) i przypisz do zmiennej _df_. Nadaj nazwy kolumn odpowiednio _col1_ oraz _col2_.\n"
   ]
  },
  {
   "cell_type": "code",
   "execution_count": 4,
   "metadata": {
    "id": "7htc5HhMKBjO"
   },
   "outputs": [
    {
     "data": {
      "text/html": [
       "<div>\n",
       "<style scoped>\n",
       "    .dataframe tbody tr th:only-of-type {\n",
       "        vertical-align: middle;\n",
       "    }\n",
       "\n",
       "    .dataframe tbody tr th {\n",
       "        vertical-align: top;\n",
       "    }\n",
       "\n",
       "    .dataframe thead th {\n",
       "        text-align: right;\n",
       "    }\n",
       "</style>\n",
       "<table border=\"1\" class=\"dataframe\">\n",
       "  <thead>\n",
       "    <tr style=\"text-align: right;\">\n",
       "      <th></th>\n",
       "      <th>col1</th>\n",
       "      <th>col2</th>\n",
       "    </tr>\n",
       "  </thead>\n",
       "  <tbody>\n",
       "    <tr>\n",
       "      <th>0</th>\n",
       "      <td>0.760785</td>\n",
       "      <td>0.915402</td>\n",
       "    </tr>\n",
       "    <tr>\n",
       "      <th>1</th>\n",
       "      <td>0.561277</td>\n",
       "      <td>0.328751</td>\n",
       "    </tr>\n",
       "    <tr>\n",
       "      <th>2</th>\n",
       "      <td>0.770967</td>\n",
       "      <td>-0.529760</td>\n",
       "    </tr>\n",
       "    <tr>\n",
       "      <th>3</th>\n",
       "      <td>0.493796</td>\n",
       "      <td>0.513267</td>\n",
       "    </tr>\n",
       "    <tr>\n",
       "      <th>4</th>\n",
       "      <td>0.522733</td>\n",
       "      <td>0.097078</td>\n",
       "    </tr>\n",
       "    <tr>\n",
       "      <th>5</th>\n",
       "      <td>0.427541</td>\n",
       "      <td>0.968645</td>\n",
       "    </tr>\n",
       "    <tr>\n",
       "      <th>6</th>\n",
       "      <td>0.025419</td>\n",
       "      <td>-0.702053</td>\n",
       "    </tr>\n",
       "    <tr>\n",
       "      <th>7</th>\n",
       "      <td>0.107891</td>\n",
       "      <td>-0.327662</td>\n",
       "    </tr>\n",
       "    <tr>\n",
       "      <th>8</th>\n",
       "      <td>0.031429</td>\n",
       "      <td>-0.392108</td>\n",
       "    </tr>\n",
       "    <tr>\n",
       "      <th>9</th>\n",
       "      <td>0.636410</td>\n",
       "      <td>-1.463515</td>\n",
       "    </tr>\n",
       "    <tr>\n",
       "      <th>10</th>\n",
       "      <td>0.314356</td>\n",
       "      <td>0.296120</td>\n",
       "    </tr>\n",
       "    <tr>\n",
       "      <th>11</th>\n",
       "      <td>0.508571</td>\n",
       "      <td>0.261055</td>\n",
       "    </tr>\n",
       "    <tr>\n",
       "      <th>12</th>\n",
       "      <td>0.907566</td>\n",
       "      <td>0.005113</td>\n",
       "    </tr>\n",
       "    <tr>\n",
       "      <th>13</th>\n",
       "      <td>0.249292</td>\n",
       "      <td>-0.234587</td>\n",
       "    </tr>\n",
       "    <tr>\n",
       "      <th>14</th>\n",
       "      <td>0.410383</td>\n",
       "      <td>-1.415371</td>\n",
       "    </tr>\n",
       "    <tr>\n",
       "      <th>15</th>\n",
       "      <td>0.755551</td>\n",
       "      <td>-0.420645</td>\n",
       "    </tr>\n",
       "    <tr>\n",
       "      <th>16</th>\n",
       "      <td>0.228798</td>\n",
       "      <td>-0.342715</td>\n",
       "    </tr>\n",
       "    <tr>\n",
       "      <th>17</th>\n",
       "      <td>0.076980</td>\n",
       "      <td>-0.802277</td>\n",
       "    </tr>\n",
       "    <tr>\n",
       "      <th>18</th>\n",
       "      <td>0.289751</td>\n",
       "      <td>-0.161286</td>\n",
       "    </tr>\n",
       "    <tr>\n",
       "      <th>19</th>\n",
       "      <td>0.161221</td>\n",
       "      <td>0.404051</td>\n",
       "    </tr>\n",
       "  </tbody>\n",
       "</table>\n",
       "</div>"
      ],
      "text/plain": [
       "        col1      col2\n",
       "0   0.760785  0.915402\n",
       "1   0.561277  0.328751\n",
       "2   0.770967 -0.529760\n",
       "3   0.493796  0.513267\n",
       "4   0.522733  0.097078\n",
       "5   0.427541  0.968645\n",
       "6   0.025419 -0.702053\n",
       "7   0.107891 -0.327662\n",
       "8   0.031429 -0.392108\n",
       "9   0.636410 -1.463515\n",
       "10  0.314356  0.296120\n",
       "11  0.508571  0.261055\n",
       "12  0.907566  0.005113\n",
       "13  0.249292 -0.234587\n",
       "14  0.410383 -1.415371\n",
       "15  0.755551 -0.420645\n",
       "16  0.228798 -0.342715\n",
       "17  0.076980 -0.802277\n",
       "18  0.289751 -0.161286\n",
       "19  0.161221  0.404051"
      ]
     },
     "execution_count": 4,
     "metadata": {},
     "output_type": "execute_result"
    }
   ],
   "source": [
    "s1 = pd.Series(np.random.rand(20))\n",
    "s2 = pd.Series(np.random.randn(20))\n",
    "\n",
    "df = pd.concat([s1, s2], axis=1)\n",
    "df.columns = ['col1', 'col2']\n",
    "df"
   ]
  },
  {
   "cell_type": "markdown",
   "metadata": {
    "id": "J9pY1rtr1sC0"
   },
   "source": [
    "### <a name='2'></a> Ćwiczenie 142\n",
    "Wytnij z obiektu _df_ wiersze, dla których wartość w kolumnie _col2_ jest pomiędzy 0.0 a 1.0 (włącznie)."
   ]
  },
  {
   "cell_type": "code",
   "execution_count": 5,
   "metadata": {
    "id": "rq935m0tLA46"
   },
   "outputs": [
    {
     "data": {
      "text/html": [
       "<div>\n",
       "<style scoped>\n",
       "    .dataframe tbody tr th:only-of-type {\n",
       "        vertical-align: middle;\n",
       "    }\n",
       "\n",
       "    .dataframe tbody tr th {\n",
       "        vertical-align: top;\n",
       "    }\n",
       "\n",
       "    .dataframe thead th {\n",
       "        text-align: right;\n",
       "    }\n",
       "</style>\n",
       "<table border=\"1\" class=\"dataframe\">\n",
       "  <thead>\n",
       "    <tr style=\"text-align: right;\">\n",
       "      <th></th>\n",
       "      <th>col1</th>\n",
       "      <th>col2</th>\n",
       "    </tr>\n",
       "  </thead>\n",
       "  <tbody>\n",
       "    <tr>\n",
       "      <th>0</th>\n",
       "      <td>0.760785</td>\n",
       "      <td>0.915402</td>\n",
       "    </tr>\n",
       "    <tr>\n",
       "      <th>1</th>\n",
       "      <td>0.561277</td>\n",
       "      <td>0.328751</td>\n",
       "    </tr>\n",
       "    <tr>\n",
       "      <th>3</th>\n",
       "      <td>0.493796</td>\n",
       "      <td>0.513267</td>\n",
       "    </tr>\n",
       "    <tr>\n",
       "      <th>4</th>\n",
       "      <td>0.522733</td>\n",
       "      <td>0.097078</td>\n",
       "    </tr>\n",
       "    <tr>\n",
       "      <th>5</th>\n",
       "      <td>0.427541</td>\n",
       "      <td>0.968645</td>\n",
       "    </tr>\n",
       "    <tr>\n",
       "      <th>10</th>\n",
       "      <td>0.314356</td>\n",
       "      <td>0.296120</td>\n",
       "    </tr>\n",
       "    <tr>\n",
       "      <th>11</th>\n",
       "      <td>0.508571</td>\n",
       "      <td>0.261055</td>\n",
       "    </tr>\n",
       "    <tr>\n",
       "      <th>12</th>\n",
       "      <td>0.907566</td>\n",
       "      <td>0.005113</td>\n",
       "    </tr>\n",
       "    <tr>\n",
       "      <th>19</th>\n",
       "      <td>0.161221</td>\n",
       "      <td>0.404051</td>\n",
       "    </tr>\n",
       "  </tbody>\n",
       "</table>\n",
       "</div>"
      ],
      "text/plain": [
       "        col1      col2\n",
       "0   0.760785  0.915402\n",
       "1   0.561277  0.328751\n",
       "3   0.493796  0.513267\n",
       "4   0.522733  0.097078\n",
       "5   0.427541  0.968645\n",
       "10  0.314356  0.296120\n",
       "11  0.508571  0.261055\n",
       "12  0.907566  0.005113\n",
       "19  0.161221  0.404051"
      ]
     },
     "execution_count": 5,
     "metadata": {},
     "output_type": "execute_result"
    }
   ],
   "source": [
    "df[df['col2'].between(0.0, 1.0)]"
   ]
  },
  {
   "cell_type": "markdown",
   "metadata": {
    "id": "XQLYT2m11wVG"
   },
   "source": [
    "### <a name='3'></a> Ćwiczenie 143\n",
    "Przypisz nową kolumnę o nazwie _col3_, która przyjmie wartość 1 w momencie gdy w kolumnie _col2_ jest wartość nieujemna i przeciwnie -1."
   ]
  },
  {
   "cell_type": "code",
   "execution_count": 6,
   "metadata": {
    "id": "mAkZEOCVMShv"
   },
   "outputs": [
    {
     "data": {
      "text/html": [
       "<div>\n",
       "<style scoped>\n",
       "    .dataframe tbody tr th:only-of-type {\n",
       "        vertical-align: middle;\n",
       "    }\n",
       "\n",
       "    .dataframe tbody tr th {\n",
       "        vertical-align: top;\n",
       "    }\n",
       "\n",
       "    .dataframe thead th {\n",
       "        text-align: right;\n",
       "    }\n",
       "</style>\n",
       "<table border=\"1\" class=\"dataframe\">\n",
       "  <thead>\n",
       "    <tr style=\"text-align: right;\">\n",
       "      <th></th>\n",
       "      <th>col1</th>\n",
       "      <th>col2</th>\n",
       "      <th>col3</th>\n",
       "    </tr>\n",
       "  </thead>\n",
       "  <tbody>\n",
       "    <tr>\n",
       "      <th>0</th>\n",
       "      <td>0.760785</td>\n",
       "      <td>0.915402</td>\n",
       "      <td>1</td>\n",
       "    </tr>\n",
       "    <tr>\n",
       "      <th>1</th>\n",
       "      <td>0.561277</td>\n",
       "      <td>0.328751</td>\n",
       "      <td>1</td>\n",
       "    </tr>\n",
       "    <tr>\n",
       "      <th>2</th>\n",
       "      <td>0.770967</td>\n",
       "      <td>-0.529760</td>\n",
       "      <td>-1</td>\n",
       "    </tr>\n",
       "    <tr>\n",
       "      <th>3</th>\n",
       "      <td>0.493796</td>\n",
       "      <td>0.513267</td>\n",
       "      <td>1</td>\n",
       "    </tr>\n",
       "    <tr>\n",
       "      <th>4</th>\n",
       "      <td>0.522733</td>\n",
       "      <td>0.097078</td>\n",
       "      <td>1</td>\n",
       "    </tr>\n",
       "    <tr>\n",
       "      <th>5</th>\n",
       "      <td>0.427541</td>\n",
       "      <td>0.968645</td>\n",
       "      <td>1</td>\n",
       "    </tr>\n",
       "    <tr>\n",
       "      <th>6</th>\n",
       "      <td>0.025419</td>\n",
       "      <td>-0.702053</td>\n",
       "      <td>-1</td>\n",
       "    </tr>\n",
       "    <tr>\n",
       "      <th>7</th>\n",
       "      <td>0.107891</td>\n",
       "      <td>-0.327662</td>\n",
       "      <td>-1</td>\n",
       "    </tr>\n",
       "    <tr>\n",
       "      <th>8</th>\n",
       "      <td>0.031429</td>\n",
       "      <td>-0.392108</td>\n",
       "      <td>-1</td>\n",
       "    </tr>\n",
       "    <tr>\n",
       "      <th>9</th>\n",
       "      <td>0.636410</td>\n",
       "      <td>-1.463515</td>\n",
       "      <td>-1</td>\n",
       "    </tr>\n",
       "    <tr>\n",
       "      <th>10</th>\n",
       "      <td>0.314356</td>\n",
       "      <td>0.296120</td>\n",
       "      <td>1</td>\n",
       "    </tr>\n",
       "    <tr>\n",
       "      <th>11</th>\n",
       "      <td>0.508571</td>\n",
       "      <td>0.261055</td>\n",
       "      <td>1</td>\n",
       "    </tr>\n",
       "    <tr>\n",
       "      <th>12</th>\n",
       "      <td>0.907566</td>\n",
       "      <td>0.005113</td>\n",
       "      <td>1</td>\n",
       "    </tr>\n",
       "    <tr>\n",
       "      <th>13</th>\n",
       "      <td>0.249292</td>\n",
       "      <td>-0.234587</td>\n",
       "      <td>-1</td>\n",
       "    </tr>\n",
       "    <tr>\n",
       "      <th>14</th>\n",
       "      <td>0.410383</td>\n",
       "      <td>-1.415371</td>\n",
       "      <td>-1</td>\n",
       "    </tr>\n",
       "    <tr>\n",
       "      <th>15</th>\n",
       "      <td>0.755551</td>\n",
       "      <td>-0.420645</td>\n",
       "      <td>-1</td>\n",
       "    </tr>\n",
       "    <tr>\n",
       "      <th>16</th>\n",
       "      <td>0.228798</td>\n",
       "      <td>-0.342715</td>\n",
       "      <td>-1</td>\n",
       "    </tr>\n",
       "    <tr>\n",
       "      <th>17</th>\n",
       "      <td>0.076980</td>\n",
       "      <td>-0.802277</td>\n",
       "      <td>-1</td>\n",
       "    </tr>\n",
       "    <tr>\n",
       "      <th>18</th>\n",
       "      <td>0.289751</td>\n",
       "      <td>-0.161286</td>\n",
       "      <td>-1</td>\n",
       "    </tr>\n",
       "    <tr>\n",
       "      <th>19</th>\n",
       "      <td>0.161221</td>\n",
       "      <td>0.404051</td>\n",
       "      <td>1</td>\n",
       "    </tr>\n",
       "  </tbody>\n",
       "</table>\n",
       "</div>"
      ],
      "text/plain": [
       "        col1      col2  col3\n",
       "0   0.760785  0.915402     1\n",
       "1   0.561277  0.328751     1\n",
       "2   0.770967 -0.529760    -1\n",
       "3   0.493796  0.513267     1\n",
       "4   0.522733  0.097078     1\n",
       "5   0.427541  0.968645     1\n",
       "6   0.025419 -0.702053    -1\n",
       "7   0.107891 -0.327662    -1\n",
       "8   0.031429 -0.392108    -1\n",
       "9   0.636410 -1.463515    -1\n",
       "10  0.314356  0.296120     1\n",
       "11  0.508571  0.261055     1\n",
       "12  0.907566  0.005113     1\n",
       "13  0.249292 -0.234587    -1\n",
       "14  0.410383 -1.415371    -1\n",
       "15  0.755551 -0.420645    -1\n",
       "16  0.228798 -0.342715    -1\n",
       "17  0.076980 -0.802277    -1\n",
       "18  0.289751 -0.161286    -1\n",
       "19  0.161221  0.404051     1"
      ]
     },
     "execution_count": 6,
     "metadata": {},
     "output_type": "execute_result"
    }
   ],
   "source": [
    "df['col3'] = df['col2'].map(lambda x: 1 if x>= 0 else -1)\n",
    "df"
   ]
  },
  {
   "cell_type": "markdown",
   "metadata": {
    "id": "4xTKSUzg10MK"
   },
   "source": [
    "### <a name='4'></a> Ćwiczenie 144\n",
    "Przypisz nową kolumnę o nazwie _col4_, która przytnie wartości z kolumny _col2_ do przedziału $[-1.0, 1.0]$. \n",
    "Innymi słowy, dla wartości poniżej -1.0 należy wstawić wartość -1.0, dla wartości powyżej 1.0 wartość 1.0.\n"
   ]
  },
  {
   "cell_type": "code",
   "execution_count": 7,
   "metadata": {
    "id": "Bg_ChMCrNR4Q"
   },
   "outputs": [
    {
     "data": {
      "text/html": [
       "<div>\n",
       "<style scoped>\n",
       "    .dataframe tbody tr th:only-of-type {\n",
       "        vertical-align: middle;\n",
       "    }\n",
       "\n",
       "    .dataframe tbody tr th {\n",
       "        vertical-align: top;\n",
       "    }\n",
       "\n",
       "    .dataframe thead th {\n",
       "        text-align: right;\n",
       "    }\n",
       "</style>\n",
       "<table border=\"1\" class=\"dataframe\">\n",
       "  <thead>\n",
       "    <tr style=\"text-align: right;\">\n",
       "      <th></th>\n",
       "      <th>col1</th>\n",
       "      <th>col2</th>\n",
       "      <th>col3</th>\n",
       "      <th>col4</th>\n",
       "    </tr>\n",
       "  </thead>\n",
       "  <tbody>\n",
       "    <tr>\n",
       "      <th>0</th>\n",
       "      <td>0.760785</td>\n",
       "      <td>0.915402</td>\n",
       "      <td>1</td>\n",
       "      <td>0.915402</td>\n",
       "    </tr>\n",
       "    <tr>\n",
       "      <th>1</th>\n",
       "      <td>0.561277</td>\n",
       "      <td>0.328751</td>\n",
       "      <td>1</td>\n",
       "      <td>0.328751</td>\n",
       "    </tr>\n",
       "    <tr>\n",
       "      <th>2</th>\n",
       "      <td>0.770967</td>\n",
       "      <td>-0.529760</td>\n",
       "      <td>-1</td>\n",
       "      <td>-0.529760</td>\n",
       "    </tr>\n",
       "    <tr>\n",
       "      <th>3</th>\n",
       "      <td>0.493796</td>\n",
       "      <td>0.513267</td>\n",
       "      <td>1</td>\n",
       "      <td>0.513267</td>\n",
       "    </tr>\n",
       "    <tr>\n",
       "      <th>4</th>\n",
       "      <td>0.522733</td>\n",
       "      <td>0.097078</td>\n",
       "      <td>1</td>\n",
       "      <td>0.097078</td>\n",
       "    </tr>\n",
       "    <tr>\n",
       "      <th>5</th>\n",
       "      <td>0.427541</td>\n",
       "      <td>0.968645</td>\n",
       "      <td>1</td>\n",
       "      <td>0.968645</td>\n",
       "    </tr>\n",
       "    <tr>\n",
       "      <th>6</th>\n",
       "      <td>0.025419</td>\n",
       "      <td>-0.702053</td>\n",
       "      <td>-1</td>\n",
       "      <td>-0.702053</td>\n",
       "    </tr>\n",
       "    <tr>\n",
       "      <th>7</th>\n",
       "      <td>0.107891</td>\n",
       "      <td>-0.327662</td>\n",
       "      <td>-1</td>\n",
       "      <td>-0.327662</td>\n",
       "    </tr>\n",
       "    <tr>\n",
       "      <th>8</th>\n",
       "      <td>0.031429</td>\n",
       "      <td>-0.392108</td>\n",
       "      <td>-1</td>\n",
       "      <td>-0.392108</td>\n",
       "    </tr>\n",
       "    <tr>\n",
       "      <th>9</th>\n",
       "      <td>0.636410</td>\n",
       "      <td>-1.463515</td>\n",
       "      <td>-1</td>\n",
       "      <td>-1.000000</td>\n",
       "    </tr>\n",
       "    <tr>\n",
       "      <th>10</th>\n",
       "      <td>0.314356</td>\n",
       "      <td>0.296120</td>\n",
       "      <td>1</td>\n",
       "      <td>0.296120</td>\n",
       "    </tr>\n",
       "    <tr>\n",
       "      <th>11</th>\n",
       "      <td>0.508571</td>\n",
       "      <td>0.261055</td>\n",
       "      <td>1</td>\n",
       "      <td>0.261055</td>\n",
       "    </tr>\n",
       "    <tr>\n",
       "      <th>12</th>\n",
       "      <td>0.907566</td>\n",
       "      <td>0.005113</td>\n",
       "      <td>1</td>\n",
       "      <td>0.005113</td>\n",
       "    </tr>\n",
       "    <tr>\n",
       "      <th>13</th>\n",
       "      <td>0.249292</td>\n",
       "      <td>-0.234587</td>\n",
       "      <td>-1</td>\n",
       "      <td>-0.234587</td>\n",
       "    </tr>\n",
       "    <tr>\n",
       "      <th>14</th>\n",
       "      <td>0.410383</td>\n",
       "      <td>-1.415371</td>\n",
       "      <td>-1</td>\n",
       "      <td>-1.000000</td>\n",
       "    </tr>\n",
       "    <tr>\n",
       "      <th>15</th>\n",
       "      <td>0.755551</td>\n",
       "      <td>-0.420645</td>\n",
       "      <td>-1</td>\n",
       "      <td>-0.420645</td>\n",
       "    </tr>\n",
       "    <tr>\n",
       "      <th>16</th>\n",
       "      <td>0.228798</td>\n",
       "      <td>-0.342715</td>\n",
       "      <td>-1</td>\n",
       "      <td>-0.342715</td>\n",
       "    </tr>\n",
       "    <tr>\n",
       "      <th>17</th>\n",
       "      <td>0.076980</td>\n",
       "      <td>-0.802277</td>\n",
       "      <td>-1</td>\n",
       "      <td>-0.802277</td>\n",
       "    </tr>\n",
       "    <tr>\n",
       "      <th>18</th>\n",
       "      <td>0.289751</td>\n",
       "      <td>-0.161286</td>\n",
       "      <td>-1</td>\n",
       "      <td>-0.161286</td>\n",
       "    </tr>\n",
       "    <tr>\n",
       "      <th>19</th>\n",
       "      <td>0.161221</td>\n",
       "      <td>0.404051</td>\n",
       "      <td>1</td>\n",
       "      <td>0.404051</td>\n",
       "    </tr>\n",
       "  </tbody>\n",
       "</table>\n",
       "</div>"
      ],
      "text/plain": [
       "        col1      col2  col3      col4\n",
       "0   0.760785  0.915402     1  0.915402\n",
       "1   0.561277  0.328751     1  0.328751\n",
       "2   0.770967 -0.529760    -1 -0.529760\n",
       "3   0.493796  0.513267     1  0.513267\n",
       "4   0.522733  0.097078     1  0.097078\n",
       "5   0.427541  0.968645     1  0.968645\n",
       "6   0.025419 -0.702053    -1 -0.702053\n",
       "7   0.107891 -0.327662    -1 -0.327662\n",
       "8   0.031429 -0.392108    -1 -0.392108\n",
       "9   0.636410 -1.463515    -1 -1.000000\n",
       "10  0.314356  0.296120     1  0.296120\n",
       "11  0.508571  0.261055     1  0.261055\n",
       "12  0.907566  0.005113     1  0.005113\n",
       "13  0.249292 -0.234587    -1 -0.234587\n",
       "14  0.410383 -1.415371    -1 -1.000000\n",
       "15  0.755551 -0.420645    -1 -0.420645\n",
       "16  0.228798 -0.342715    -1 -0.342715\n",
       "17  0.076980 -0.802277    -1 -0.802277\n",
       "18  0.289751 -0.161286    -1 -0.161286\n",
       "19  0.161221  0.404051     1  0.404051"
      ]
     },
     "execution_count": 7,
     "metadata": {},
     "output_type": "execute_result"
    }
   ],
   "source": [
    "df['col4'] = df['col2'].clip(-1.0, 1.0)\n",
    "df"
   ]
  },
  {
   "cell_type": "markdown",
   "metadata": {
    "id": "o3HKIKlP15Ro"
   },
   "source": [
    "### <a name='5'></a> Ćwiczenie 145\n",
    "Znajdź 5 największych wartości dla kolumny _col2_."
   ]
  },
  {
   "cell_type": "code",
   "execution_count": 8,
   "metadata": {
    "id": "jGG0OO6aU2dU"
   },
   "outputs": [
    {
     "data": {
      "text/plain": [
       "5     0.968645\n",
       "0     0.915402\n",
       "3     0.513267\n",
       "19    0.404051\n",
       "1     0.328751\n",
       "Name: col2, dtype: float64"
      ]
     },
     "execution_count": 8,
     "metadata": {},
     "output_type": "execute_result"
    }
   ],
   "source": [
    "df['col2'].nlargest(5)"
   ]
  },
  {
   "cell_type": "markdown",
   "metadata": {
    "id": "gj1J1dG7VQWJ"
   },
   "source": [
    "Znajdź 5 najmniejszych wartości dla kolumny _col2_."
   ]
  },
  {
   "cell_type": "code",
   "execution_count": 9,
   "metadata": {
    "id": "VSD75nMoVPS-"
   },
   "outputs": [
    {
     "data": {
      "text/plain": [
       "9    -1.463515\n",
       "14   -1.415371\n",
       "17   -0.802277\n",
       "6    -0.702053\n",
       "2    -0.529760\n",
       "Name: col2, dtype: float64"
      ]
     },
     "execution_count": 9,
     "metadata": {},
     "output_type": "execute_result"
    }
   ],
   "source": [
    "df['col2'].nsmallest(5)"
   ]
  },
  {
   "cell_type": "markdown",
   "metadata": {
    "id": "PunXd_Ey16so"
   },
   "source": [
    "### <a name='6'></a> Ćwiczenie 146\n",
    "Wyznacz skumulowaną sumę dla każdej kolumny.\n",
    "\n",
    "__Wskazówka:__ Użyj metody _pd.DataFrame.cumsum()_."
   ]
  },
  {
   "cell_type": "code",
   "execution_count": 10,
   "metadata": {
    "id": "1_dpccwOVg0I"
   },
   "outputs": [
    {
     "data": {
      "text/html": [
       "<div>\n",
       "<style scoped>\n",
       "    .dataframe tbody tr th:only-of-type {\n",
       "        vertical-align: middle;\n",
       "    }\n",
       "\n",
       "    .dataframe tbody tr th {\n",
       "        vertical-align: top;\n",
       "    }\n",
       "\n",
       "    .dataframe thead th {\n",
       "        text-align: right;\n",
       "    }\n",
       "</style>\n",
       "<table border=\"1\" class=\"dataframe\">\n",
       "  <thead>\n",
       "    <tr style=\"text-align: right;\">\n",
       "      <th></th>\n",
       "      <th>col1</th>\n",
       "      <th>col2</th>\n",
       "      <th>col3</th>\n",
       "      <th>col4</th>\n",
       "    </tr>\n",
       "  </thead>\n",
       "  <tbody>\n",
       "    <tr>\n",
       "      <th>0</th>\n",
       "      <td>0.760785</td>\n",
       "      <td>0.915402</td>\n",
       "      <td>1</td>\n",
       "      <td>0.915402</td>\n",
       "    </tr>\n",
       "    <tr>\n",
       "      <th>1</th>\n",
       "      <td>1.322062</td>\n",
       "      <td>1.244153</td>\n",
       "      <td>2</td>\n",
       "      <td>1.244153</td>\n",
       "    </tr>\n",
       "    <tr>\n",
       "      <th>2</th>\n",
       "      <td>2.093029</td>\n",
       "      <td>0.714393</td>\n",
       "      <td>1</td>\n",
       "      <td>0.714393</td>\n",
       "    </tr>\n",
       "    <tr>\n",
       "      <th>3</th>\n",
       "      <td>2.586825</td>\n",
       "      <td>1.227660</td>\n",
       "      <td>2</td>\n",
       "      <td>1.227660</td>\n",
       "    </tr>\n",
       "    <tr>\n",
       "      <th>4</th>\n",
       "      <td>3.109558</td>\n",
       "      <td>1.324738</td>\n",
       "      <td>3</td>\n",
       "      <td>1.324738</td>\n",
       "    </tr>\n",
       "    <tr>\n",
       "      <th>5</th>\n",
       "      <td>3.537099</td>\n",
       "      <td>2.293383</td>\n",
       "      <td>4</td>\n",
       "      <td>2.293383</td>\n",
       "    </tr>\n",
       "    <tr>\n",
       "      <th>6</th>\n",
       "      <td>3.562518</td>\n",
       "      <td>1.591330</td>\n",
       "      <td>3</td>\n",
       "      <td>1.591330</td>\n",
       "    </tr>\n",
       "    <tr>\n",
       "      <th>7</th>\n",
       "      <td>3.670409</td>\n",
       "      <td>1.263668</td>\n",
       "      <td>2</td>\n",
       "      <td>1.263668</td>\n",
       "    </tr>\n",
       "    <tr>\n",
       "      <th>8</th>\n",
       "      <td>3.701839</td>\n",
       "      <td>0.871560</td>\n",
       "      <td>1</td>\n",
       "      <td>0.871560</td>\n",
       "    </tr>\n",
       "    <tr>\n",
       "      <th>9</th>\n",
       "      <td>4.338249</td>\n",
       "      <td>-0.591955</td>\n",
       "      <td>0</td>\n",
       "      <td>-0.128440</td>\n",
       "    </tr>\n",
       "    <tr>\n",
       "      <th>10</th>\n",
       "      <td>4.652605</td>\n",
       "      <td>-0.295835</td>\n",
       "      <td>1</td>\n",
       "      <td>0.167680</td>\n",
       "    </tr>\n",
       "    <tr>\n",
       "      <th>11</th>\n",
       "      <td>5.161176</td>\n",
       "      <td>-0.034780</td>\n",
       "      <td>2</td>\n",
       "      <td>0.428735</td>\n",
       "    </tr>\n",
       "    <tr>\n",
       "      <th>12</th>\n",
       "      <td>6.068742</td>\n",
       "      <td>-0.029666</td>\n",
       "      <td>3</td>\n",
       "      <td>0.433849</td>\n",
       "    </tr>\n",
       "    <tr>\n",
       "      <th>13</th>\n",
       "      <td>6.318034</td>\n",
       "      <td>-0.264253</td>\n",
       "      <td>2</td>\n",
       "      <td>0.199261</td>\n",
       "    </tr>\n",
       "    <tr>\n",
       "      <th>14</th>\n",
       "      <td>6.728417</td>\n",
       "      <td>-1.679624</td>\n",
       "      <td>1</td>\n",
       "      <td>-0.800739</td>\n",
       "    </tr>\n",
       "    <tr>\n",
       "      <th>15</th>\n",
       "      <td>7.483968</td>\n",
       "      <td>-2.100270</td>\n",
       "      <td>0</td>\n",
       "      <td>-1.221384</td>\n",
       "    </tr>\n",
       "    <tr>\n",
       "      <th>16</th>\n",
       "      <td>7.712767</td>\n",
       "      <td>-2.442984</td>\n",
       "      <td>-1</td>\n",
       "      <td>-1.564098</td>\n",
       "    </tr>\n",
       "    <tr>\n",
       "      <th>17</th>\n",
       "      <td>7.789747</td>\n",
       "      <td>-3.245261</td>\n",
       "      <td>-2</td>\n",
       "      <td>-2.366376</td>\n",
       "    </tr>\n",
       "    <tr>\n",
       "      <th>18</th>\n",
       "      <td>8.079498</td>\n",
       "      <td>-3.406547</td>\n",
       "      <td>-3</td>\n",
       "      <td>-2.527661</td>\n",
       "    </tr>\n",
       "    <tr>\n",
       "      <th>19</th>\n",
       "      <td>8.240719</td>\n",
       "      <td>-3.002496</td>\n",
       "      <td>-2</td>\n",
       "      <td>-2.123610</td>\n",
       "    </tr>\n",
       "  </tbody>\n",
       "</table>\n",
       "</div>"
      ],
      "text/plain": [
       "        col1      col2  col3      col4\n",
       "0   0.760785  0.915402     1  0.915402\n",
       "1   1.322062  1.244153     2  1.244153\n",
       "2   2.093029  0.714393     1  0.714393\n",
       "3   2.586825  1.227660     2  1.227660\n",
       "4   3.109558  1.324738     3  1.324738\n",
       "5   3.537099  2.293383     4  2.293383\n",
       "6   3.562518  1.591330     3  1.591330\n",
       "7   3.670409  1.263668     2  1.263668\n",
       "8   3.701839  0.871560     1  0.871560\n",
       "9   4.338249 -0.591955     0 -0.128440\n",
       "10  4.652605 -0.295835     1  0.167680\n",
       "11  5.161176 -0.034780     2  0.428735\n",
       "12  6.068742 -0.029666     3  0.433849\n",
       "13  6.318034 -0.264253     2  0.199261\n",
       "14  6.728417 -1.679624     1 -0.800739\n",
       "15  7.483968 -2.100270     0 -1.221384\n",
       "16  7.712767 -2.442984    -1 -1.564098\n",
       "17  7.789747 -3.245261    -2 -2.366376\n",
       "18  8.079498 -3.406547    -3 -2.527661\n",
       "19  8.240719 -3.002496    -2 -2.123610"
      ]
     },
     "execution_count": 10,
     "metadata": {},
     "output_type": "execute_result"
    }
   ],
   "source": [
    "df.cumsum()"
   ]
  },
  {
   "cell_type": "markdown",
   "metadata": {
    "id": "hOhqDRz618Tx"
   },
   "source": [
    "### <a name='7'></a> Ćwiczenie 147\n",
    "Wyznacz medianę dla zmiennej _col2_ (inaczej kwantyl rzędu 0.5)."
   ]
  },
  {
   "cell_type": "code",
   "execution_count": 11,
   "metadata": {
    "id": "2j0U0daiWk5Z"
   },
   "outputs": [
    {
     "data": {
      "text/plain": [
       "-0.19793642252057803"
      ]
     },
     "execution_count": 11,
     "metadata": {},
     "output_type": "execute_result"
    }
   ],
   "source": [
    "df['col2'].median()"
   ]
  },
  {
   "cell_type": "markdown",
   "metadata": {
    "id": "TXUd_4631-gw"
   },
   "source": [
    "### <a name='8'></a> Ćwiczenie 148\n",
    "Wytnij wiersze, dla których zmienna _col2_ przyjmuje wartości większe od 0.0."
   ]
  },
  {
   "cell_type": "code",
   "execution_count": 13,
   "metadata": {
    "id": "FKDAKaugW9Pd"
   },
   "outputs": [
    {
     "data": {
      "text/html": [
       "<div>\n",
       "<style scoped>\n",
       "    .dataframe tbody tr th:only-of-type {\n",
       "        vertical-align: middle;\n",
       "    }\n",
       "\n",
       "    .dataframe tbody tr th {\n",
       "        vertical-align: top;\n",
       "    }\n",
       "\n",
       "    .dataframe thead th {\n",
       "        text-align: right;\n",
       "    }\n",
       "</style>\n",
       "<table border=\"1\" class=\"dataframe\">\n",
       "  <thead>\n",
       "    <tr style=\"text-align: right;\">\n",
       "      <th></th>\n",
       "      <th>col1</th>\n",
       "      <th>col2</th>\n",
       "      <th>col3</th>\n",
       "      <th>col4</th>\n",
       "    </tr>\n",
       "  </thead>\n",
       "  <tbody>\n",
       "    <tr>\n",
       "      <th>0</th>\n",
       "      <td>0.760785</td>\n",
       "      <td>0.915402</td>\n",
       "      <td>1</td>\n",
       "      <td>0.915402</td>\n",
       "    </tr>\n",
       "    <tr>\n",
       "      <th>1</th>\n",
       "      <td>0.561277</td>\n",
       "      <td>0.328751</td>\n",
       "      <td>1</td>\n",
       "      <td>0.328751</td>\n",
       "    </tr>\n",
       "    <tr>\n",
       "      <th>3</th>\n",
       "      <td>0.493796</td>\n",
       "      <td>0.513267</td>\n",
       "      <td>1</td>\n",
       "      <td>0.513267</td>\n",
       "    </tr>\n",
       "    <tr>\n",
       "      <th>4</th>\n",
       "      <td>0.522733</td>\n",
       "      <td>0.097078</td>\n",
       "      <td>1</td>\n",
       "      <td>0.097078</td>\n",
       "    </tr>\n",
       "    <tr>\n",
       "      <th>5</th>\n",
       "      <td>0.427541</td>\n",
       "      <td>0.968645</td>\n",
       "      <td>1</td>\n",
       "      <td>0.968645</td>\n",
       "    </tr>\n",
       "    <tr>\n",
       "      <th>10</th>\n",
       "      <td>0.314356</td>\n",
       "      <td>0.296120</td>\n",
       "      <td>1</td>\n",
       "      <td>0.296120</td>\n",
       "    </tr>\n",
       "    <tr>\n",
       "      <th>11</th>\n",
       "      <td>0.508571</td>\n",
       "      <td>0.261055</td>\n",
       "      <td>1</td>\n",
       "      <td>0.261055</td>\n",
       "    </tr>\n",
       "    <tr>\n",
       "      <th>12</th>\n",
       "      <td>0.907566</td>\n",
       "      <td>0.005113</td>\n",
       "      <td>1</td>\n",
       "      <td>0.005113</td>\n",
       "    </tr>\n",
       "    <tr>\n",
       "      <th>19</th>\n",
       "      <td>0.161221</td>\n",
       "      <td>0.404051</td>\n",
       "      <td>1</td>\n",
       "      <td>0.404051</td>\n",
       "    </tr>\n",
       "  </tbody>\n",
       "</table>\n",
       "</div>"
      ],
      "text/plain": [
       "        col1      col2  col3      col4\n",
       "0   0.760785  0.915402     1  0.915402\n",
       "1   0.561277  0.328751     1  0.328751\n",
       "3   0.493796  0.513267     1  0.513267\n",
       "4   0.522733  0.097078     1  0.097078\n",
       "5   0.427541  0.968645     1  0.968645\n",
       "10  0.314356  0.296120     1  0.296120\n",
       "11  0.508571  0.261055     1  0.261055\n",
       "12  0.907566  0.005113     1  0.005113\n",
       "19  0.161221  0.404051     1  0.404051"
      ]
     },
     "execution_count": 13,
     "metadata": {},
     "output_type": "execute_result"
    }
   ],
   "source": [
    "df.query('col2 > 0')"
   ]
  },
  {
   "cell_type": "markdown",
   "metadata": {
    "id": "tgI6xEn-2AQo"
   },
   "source": [
    "### <a name='9'></a> Ćwiczenie 149\n",
    "Wytnij 5 pierwszych wierszy obiektu _df_ i przekształć je do słownika."
   ]
  },
  {
   "cell_type": "code",
   "execution_count": 14,
   "metadata": {
    "id": "HTXId5eFXgyY"
   },
   "outputs": [
    {
     "data": {
      "text/plain": [
       "{'col1': {0: 0.7607850486168974,\n",
       "  1: 0.5612771975694962,\n",
       "  2: 0.770967179954561,\n",
       "  3: 0.49379559636439074,\n",
       "  4: 0.5227328293819941},\n",
       " 'col2': {0: 0.9154021177020741,\n",
       "  1: 0.32875110965968446,\n",
       "  2: -0.5297602037670388,\n",
       "  3: 0.5132674331133561,\n",
       "  4: 0.09707754934804039},\n",
       " 'col3': {0: 1, 1: 1, 2: -1, 3: 1, 4: 1},\n",
       " 'col4': {0: 0.9154021177020741,\n",
       "  1: 0.32875110965968446,\n",
       "  2: -0.5297602037670388,\n",
       "  3: 0.5132674331133561,\n",
       "  4: 0.09707754934804039}}"
      ]
     },
     "execution_count": 14,
     "metadata": {},
     "output_type": "execute_result"
    }
   ],
   "source": [
    "df.head().to_dict()"
   ]
  },
  {
   "cell_type": "markdown",
   "metadata": {
    "id": "wxhpf-uq2B1I"
   },
   "source": [
    "### <a name='10'></a> Ćwiczenie 150\n",
    "Wytnij 5 pierwszych wierszy obiektu _df_, przekształć je do formatu Markdown i przypisz do zmiennej _df_markdown_."
   ]
  },
  {
   "cell_type": "code",
   "execution_count": 16,
   "metadata": {
    "id": "YFc0KW6URsuc"
   },
   "outputs": [
    {
     "data": {
      "text/plain": [
       "'|    |     col1 |       col2 |   col3 |       col4 |\\n|---:|---------:|-----------:|-------:|-----------:|\\n|  0 | 0.760785 |  0.915402  |      1 |  0.915402  |\\n|  1 | 0.561277 |  0.328751  |      1 |  0.328751  |\\n|  2 | 0.770967 | -0.52976   |     -1 | -0.52976   |\\n|  3 | 0.493796 |  0.513267  |      1 |  0.513267  |\\n|  4 | 0.522733 |  0.0970775 |      1 |  0.0970775 |'"
      ]
     },
     "execution_count": 16,
     "metadata": {},
     "output_type": "execute_result"
    }
   ],
   "source": [
    "df_markdown = df.head().to_markdown()\n",
    "df_markdown"
   ]
  },
  {
   "cell_type": "markdown",
   "metadata": {
    "id": "-_xCdTQpYqFx"
   },
   "source": [
    "Wydrukuj do konsoli zawartość zmiennej _df_markdown_."
   ]
  },
  {
   "cell_type": "code",
   "execution_count": 17,
   "metadata": {
    "id": "xXI_Km1nX7wA",
    "scrolled": true
   },
   "outputs": [
    {
     "name": "stdout",
     "output_type": "stream",
     "text": [
      "|    |     col1 |       col2 |   col3 |       col4 |\n",
      "|---:|---------:|-----------:|-------:|-----------:|\n",
      "|  0 | 0.760785 |  0.915402  |      1 |  0.915402  |\n",
      "|  1 | 0.561277 |  0.328751  |      1 |  0.328751  |\n",
      "|  2 | 0.770967 | -0.52976   |     -1 | -0.52976   |\n",
      "|  3 | 0.493796 |  0.513267  |      1 |  0.513267  |\n",
      "|  4 | 0.522733 |  0.0970775 |      1 |  0.0970775 |\n"
     ]
    }
   ],
   "source": [
    "print(df_markdown)"
   ]
  },
  {
   "cell_type": "markdown",
   "metadata": {
    "id": "mtO9QK5XYune"
   },
   "source": [
    "Skopiuj wynik uruchomienia powyższej komórki i wklej poniżej:\n",
    "\n",
    "|    |     col1 |       col2 |   col3 |       col4 |\n",
    "|---:|---------:|-----------:|-------:|-----------:|\n",
    "|  0 | 0.760785 |  0.915402  |      1 |  0.915402  |\n",
    "|  1 | 0.561277 |  0.328751  |      1 |  0.328751  |\n",
    "|  2 | 0.770967 | -0.52976   |     -1 | -0.52976   |\n",
    "|  3 | 0.493796 |  0.513267  |      1 |  0.513267  |\n",
    "|  4 | 0.522733 |  0.0970775 |      1 |  0.0970775 |\n"
   ]
  }
 ],
 "metadata": {
  "colab": {
   "provenance": []
  },
  "kernelspec": {
   "display_name": "Python 3 (ipykernel)",
   "language": "python",
   "name": "python3"
  },
  "language_info": {
   "codemirror_mode": {
    "name": "ipython",
    "version": 3
   },
   "file_extension": ".py",
   "mimetype": "text/x-python",
   "name": "python",
   "nbconvert_exporter": "python",
   "pygments_lexer": "ipython3",
   "version": "3.9.12"
  }
 },
 "nbformat": 4,
 "nbformat_minor": 1
}
