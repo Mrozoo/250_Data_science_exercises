{
 "cells": [
  {
   "cell_type": "markdown",
   "metadata": {
    "id": "WLEgCW5F1hho"
   },
   "source": [
    "## Numpy\n",
    "\n",
    "### Spis treści:\n",
    "* [Import biblioteki](#0)\n",
    "* [Ćwiczenie 31](#1)\n",
    "* [Ćwiczenie 32](#2)\n",
    "* [Ćwiczenie 33](#3)\n",
    "* [Ćwiczenie 34](#4)\n",
    "* [Ćwiczenie 35](#5)\n",
    "* [Ćwiczenie 36](#6)\n",
    "* [Ćwiczenie 37](#7)\n",
    "* [Ćwiczenie 38](#8)\n",
    "* [Ćwiczenie 39](#9)\n",
    "* [Ćwiczenie 40](#10)"
   ]
  },
  {
   "cell_type": "markdown",
   "metadata": {
    "id": "zeLOLmTj1kBM"
   },
   "source": [
    "### <a name='0'></a>Import biblioteki"
   ]
  },
  {
   "cell_type": "code",
   "execution_count": 1,
   "metadata": {
    "id": "HXMB7SMe1Wnz"
   },
   "outputs": [
    {
     "data": {
      "text/plain": [
       "'1.24.2'"
      ]
     },
     "execution_count": 1,
     "metadata": {},
     "output_type": "execute_result"
    }
   ],
   "source": [
    "import numpy as np\n",
    "\n",
    "np.__version__"
   ]
  },
  {
   "cell_type": "markdown",
   "metadata": {
    "id": "cyc70pMe1oCg"
   },
   "source": [
    "### <a name='1'></a> Ćwiczenie 31\n",
    "Wykonaj dwa sortowania podanej poniżej tablicy $A$:\n",
    "* wierszowo (rosnąco)\n",
    "* kolumnowo (rosnąco)\n",
    "\n",
    "\n",
    "```\n",
    "A = np.array([[4.99, 3.49, 9.99],\n",
    "              [1.99, 9.99, 4.99],\n",
    "              [14.99, 2.39, 7.29]])\n",
    "```\n",
    "\n",
    "\n",
    "\n",
    "__Wskazówka:__ Użyj funkcji _np.sort()_."
   ]
  },
  {
   "cell_type": "code",
   "execution_count": 10,
   "metadata": {
    "id": "ed-_5hm4IvnA"
   },
   "outputs": [
    {
     "name": "stdout",
     "output_type": "stream",
     "text": [
      "[[ 3.49  4.99  9.99]\n",
      " [ 1.99  4.99  9.99]\n",
      " [ 2.39  7.29 14.99]]\n",
      "\n",
      "[[ 1.99  2.39  4.99]\n",
      " [ 4.99  3.49  7.29]\n",
      " [14.99  9.99  9.99]]\n"
     ]
    }
   ],
   "source": [
    "A = np.array([[4.99, 3.49, 9.99],\n",
    "              [1.99, 9.99, 4.99],\n",
    "              [14.99, 2.39, 7.29]])\n",
    "\n",
    "tabAsorted_wier = np.sort(A, axis=1)\n",
    "tabAsorted_kol = np.sort(A, axis=0)\n",
    "\n",
    "print(tabAsorted_wier)\n",
    "print(f\"\\n{tabAsorted_kol}\")"
   ]
  },
  {
   "cell_type": "markdown",
   "metadata": {
    "id": "J9pY1rtr1sC0"
   },
   "source": [
    "### <a name='2'></a> Ćwiczenie 32\n",
    "Wytnij wszystkie elementy tablicy $A$ o wartości wyższej niż 8.\n",
    "\n",
    "\n",
    "```\n",
    "A = np.array([[4.99, 3.49, 9.99],\n",
    "              [1.99, 9.99, 4.99],\n",
    "              [14.99, 2.39, 7.29]])\n",
    "```\n",
    "\n"
   ]
  },
  {
   "cell_type": "code",
   "execution_count": 11,
   "metadata": {
    "id": "15swBr0tMExC"
   },
   "outputs": [
    {
     "data": {
      "text/plain": [
       "array([ 9.99,  9.99, 14.99])"
      ]
     },
     "execution_count": 11,
     "metadata": {},
     "output_type": "execute_result"
    }
   ],
   "source": [
    "A = np.array([[4.99, 3.49, 9.99],\n",
    "              [1.99, 9.99, 4.99],\n",
    "              [14.99, 2.39, 7.29]])\n",
    "\n",
    "tabB = A[A > 8]\n",
    "tabB"
   ]
  },
  {
   "cell_type": "markdown",
   "metadata": {
    "id": "XQLYT2m11wVG"
   },
   "source": [
    "### <a name='3'></a> Ćwiczenie 33\n",
    "Podana jest poniższa tablica $A$. Zastąp elementy powyżej wartości 10 wartością stałą 10 (obcięcie wartości do 10).\n",
    "\n",
    "\n",
    "```\n",
    "A = np.array([[4.99, 3.49, 9.99],\n",
    "              [1.99, 9.99, 14.99],\n",
    "              [14.99, 2.39, 7.29]])\n",
    "```\n",
    "\n",
    "\n",
    "\n",
    "__Wskazówka:__ Użyj funkcji _np.where()_."
   ]
  },
  {
   "cell_type": "code",
   "execution_count": 12,
   "metadata": {
    "id": "1korOkbrPXC9"
   },
   "outputs": [
    {
     "data": {
      "text/plain": [
       "array([[ 4.99,  3.49,  9.99],\n",
       "       [ 1.99,  9.99, 10.  ],\n",
       "       [10.  ,  2.39,  7.29]])"
      ]
     },
     "execution_count": 12,
     "metadata": {},
     "output_type": "execute_result"
    }
   ],
   "source": [
    "A = np.array([[4.99, 3.49, 9.99],\n",
    "              [1.99, 9.99, 14.99],\n",
    "              [14.99, 2.39, 7.29]])\n",
    "\n",
    "tabC = np.where(A>10, 10, A)\n",
    "\n",
    "tabC"
   ]
  },
  {
   "cell_type": "markdown",
   "metadata": {
    "id": "4xTKSUzg10MK"
   },
   "source": [
    "### <a name='4'></a> Ćwiczenie 34\n",
    "Poniższą dwuwymiarową tablicę $A$ przedstaw w postaci 'wypłaszczonej' jednowymiarowej tablicy.  \n",
    "\n",
    "```\n",
    "A = np.array([[4.99, 3.49, 9.99],\n",
    "              [1.99, 9.99, 14.99],\n",
    "              [14.99, 2.39, 7.29]])\n",
    "```\n",
    "\n",
    "\n",
    "\n",
    "__Oczekiwany wynik:__\n",
    "\n",
    "\n",
    "```\n",
    "array([ 4.99,  3.49,  9.99,  1.99,  9.99, 14.99, 14.99,  2.39,  7.29])\n",
    "```\n",
    "\n",
    "__Wskazówka:__ Użyj funkcji _np.ravel()_.\n",
    "\n",
    "\n"
   ]
  },
  {
   "cell_type": "code",
   "execution_count": 13,
   "metadata": {
    "id": "COqibgznQtj0"
   },
   "outputs": [
    {
     "data": {
      "text/plain": [
       "array([ 4.99,  3.49,  9.99,  1.99,  9.99, 14.99, 14.99,  2.39,  7.29])"
      ]
     },
     "execution_count": 13,
     "metadata": {},
     "output_type": "execute_result"
    }
   ],
   "source": [
    "A = np.array([[4.99, 3.49, 9.99],\n",
    "              [1.99, 9.99, 14.99],\n",
    "              [14.99, 2.39, 7.29]])\n",
    "\n",
    "tabD = np.ravel(A)\n",
    "\n",
    "tabD"
   ]
  },
  {
   "cell_type": "markdown",
   "metadata": {
    "id": "o3HKIKlP15Ro"
   },
   "source": [
    "### <a name='5'></a> Ćwiczenie 35\n",
    "Zbuduj tablicę o identycznym kształcie i typie danych jak tablica $A$ oraz wypełnij ją stałą wartością 0.0.\n",
    "\n",
    "\n",
    "```\n",
    "A = np.array([[4.99, 3.49, 9.99],\n",
    "              [1.99, 9.99, 14.99],\n",
    "              [14.99, 2.39, 7.29]])\n",
    "```\n",
    "__Oczekiwany wynik:__\n",
    "\n",
    "\n",
    "```\n",
    "array([[0., 0., 0.],\n",
    "       [0., 0., 0.],\n",
    "       [0., 0., 0.]])\n",
    "```\n",
    "\n",
    "\n",
    "\n",
    "\n",
    "\n",
    "__Wskazówka:__ Użyj funkcji _np.zeros_like()_."
   ]
  },
  {
   "cell_type": "code",
   "execution_count": 15,
   "metadata": {
    "id": "Nb5kpwa3Sh-P"
   },
   "outputs": [
    {
     "data": {
      "text/plain": [
       "array([[0., 0., 0.],\n",
       "       [0., 0., 0.],\n",
       "       [0., 0., 0.]])"
      ]
     },
     "execution_count": 15,
     "metadata": {},
     "output_type": "execute_result"
    }
   ],
   "source": [
    "A = np.array([[4.99, 3.49, 9.99],\n",
    "              [1.99, 9.99, 14.99],\n",
    "              [14.99, 2.39, 7.29]])\n",
    "\n",
    "tabE = np.zeros_like(A)\n",
    "\n",
    "tabE"
   ]
  },
  {
   "cell_type": "markdown",
   "metadata": {
    "id": "PunXd_Ey16so"
   },
   "source": [
    "### <a name='6'></a> Ćwiczenie 36\n",
    "\n",
    "Zbuduj tablicę o identycznym kształcie i typie danych jak tablica $A$ oraz wypełnij ją stałą wartością 9.99.\n",
    "\n",
    "\n",
    "```\n",
    "A = np.array([[4.99, 3.49, 9.99],\n",
    "              [1.99, 9.99, 14.99],\n",
    "              [14.99, 2.39, 7.29]])\n",
    "```\n",
    "\n",
    "__Oczekiwany wynik:__\n",
    "\n",
    "\n",
    "```\n",
    "array([[9.99, 9.99, 9.99],\n",
    "       [9.99, 9.99, 9.99],\n",
    "       [9.99, 9.99, 9.99]])\n",
    "```\n",
    "\n",
    "\n",
    "\n",
    "__Wskazówka:__ Użyj funkcji _np.full_like()_."
   ]
  },
  {
   "cell_type": "code",
   "execution_count": 16,
   "metadata": {
    "id": "XigJhXuPUQ4_"
   },
   "outputs": [
    {
     "data": {
      "text/plain": [
       "array([[9.99, 9.99, 9.99],\n",
       "       [9.99, 9.99, 9.99],\n",
       "       [9.99, 9.99, 9.99]])"
      ]
     },
     "execution_count": 16,
     "metadata": {},
     "output_type": "execute_result"
    }
   ],
   "source": [
    "A = np.array([[4.99, 3.49, 9.99],\n",
    "              [1.99, 9.99, 14.99],\n",
    "              [14.99, 2.39, 7.29]])\n",
    "\n",
    "tabF = np.full_like(A, fill_value=9.99)\n",
    "\n",
    "tabF"
   ]
  },
  {
   "cell_type": "markdown",
   "metadata": {
    "id": "hOhqDRz618Tx"
   },
   "source": [
    "### <a name='7'></a> Ćwiczenie 37\n",
    "Zbuduj tablicę dwuwymiarową (macierz kwadratową dolną trójkątną) podnaną poniżej:\n",
    "\n",
    "\n",
    "```\n",
    "array([[1., 0., 0., 0., 0.],\n",
    "       [1., 1., 0., 0., 0.],\n",
    "       [1., 1., 1., 0., 0.],\n",
    "       [1., 1., 1., 1., 0.],\n",
    "       [1., 1., 1., 1., 1.]])\n",
    "```\n",
    "__Wskazówka:__ Użyj funkcji _np.tri()_.\n"
   ]
  },
  {
   "cell_type": "code",
   "execution_count": 17,
   "metadata": {
    "id": "0T6tBTzeVDN7"
   },
   "outputs": [
    {
     "data": {
      "text/plain": [
       "array([[1., 0., 0., 0., 0.],\n",
       "       [1., 1., 0., 0., 0.],\n",
       "       [1., 1., 1., 0., 0.],\n",
       "       [1., 1., 1., 1., 0.],\n",
       "       [1., 1., 1., 1., 1.]])"
      ]
     },
     "execution_count": 17,
     "metadata": {},
     "output_type": "execute_result"
    }
   ],
   "source": [
    "tabG = np.tri(5, k=0)\n",
    "\n",
    "tabG"
   ]
  },
  {
   "cell_type": "markdown",
   "metadata": {
    "id": "TXUd_4631-gw"
   },
   "source": [
    "### <a name='8'></a> Ćwiczenie 38\n",
    "Stwórz dowolną tablicę 3-wymiarową o kształcie $(2, 3, 4)$."
   ]
  },
  {
   "cell_type": "code",
   "execution_count": 18,
   "metadata": {
    "id": "NZoI-8PeXudZ"
   },
   "outputs": [
    {
     "data": {
      "text/plain": [
       "array([[[0.44817621, 0.38625357, 0.33126448, 0.69293632],\n",
       "        [0.73668646, 0.86825721, 0.34130244, 0.76505484],\n",
       "        [0.31969859, 0.6179154 , 0.52092283, 0.50866703]],\n",
       "\n",
       "       [[0.27304572, 0.41957588, 0.01756172, 0.94792254],\n",
       "        [0.18836294, 0.72874132, 0.11970535, 0.13217066],\n",
       "        [0.63571007, 0.75814002, 0.48500836, 0.64612609]]])"
      ]
     },
     "execution_count": 18,
     "metadata": {},
     "output_type": "execute_result"
    }
   ],
   "source": [
    "tabH = np.random.rand(2, 3, 4)\n",
    "\n",
    "#alternetywy dla stworzenia takiej tablicy\n",
    "# tabH1 = np.zeros(2, 3, 4)\n",
    "# tabH2 = np.ones(2, 3, 4)\n",
    "\n",
    "tabH"
   ]
  },
  {
   "cell_type": "markdown",
   "metadata": {
    "id": "tgI6xEn-2AQo"
   },
   "source": [
    "### <a name='9'></a> Ćwiczenie 39\n",
    "\n",
    "Wygeneruj dwuwymiarową tablicę o kształcie _(200, 300)_ wypełnioną wartościami losowymi od 0 do 255 włacznie i typie danych _np.uint8_ i przypisz do zmiennej _image_."
   ]
  },
  {
   "cell_type": "code",
   "execution_count": 26,
   "metadata": {
    "id": "4UXbFDEVZr1J"
   },
   "outputs": [],
   "source": [
    "image = np.random.randint(0, 256, size=(200, 300), dtype=np.uint8)"
   ]
  },
  {
   "cell_type": "markdown",
   "metadata": {
    "id": "nA-CIMPfbTcB"
   },
   "source": [
    "Nastepnie uruchom poniższy blok kodu. W rezultacie uzyskasz podgląd na losowo wygenerowany czarno-biały obraz."
   ]
  },
  {
   "cell_type": "code",
   "execution_count": 29,
   "metadata": {
    "id": "wga9cGARZ-3O"
   },
   "outputs": [],
   "source": [
    "# from google.colab.patches import cv2_imshow\n",
    "\n",
    "# cv2_imshow(image)\n",
    "\n",
    "from PIL import Image\n",
    "\n",
    "# konwersja tablicy NumPy na obiekt PIL Image\n",
    "img = Image.fromarray(image)\n",
    "\n",
    "# zmiana trybu obrazu na \"L\"\n",
    "img = img.convert(\"L\")\n",
    "\n",
    "img.show()\n",
    "img.save(\"obraz.png\")"
   ]
  },
  {
   "cell_type": "markdown",
   "metadata": {
    "id": "wxhpf-uq2B1I"
   },
   "source": [
    "### <a name='10'></a> Ćwiczenie 40\n",
    "Tablicę _image_ z poprzedniego zadania posortuj wzdłuż wiersza rosnąco. Następnie dzięki funkcji _cv2_imshow()_ wyświetl otrzymany obraz."
   ]
  },
  {
   "cell_type": "code",
   "execution_count": null,
   "metadata": {
    "id": "YFc0KW6URsuc"
   },
   "outputs": [],
   "source": [
    "image.sort(axis=1)"
   ]
  },
  {
   "cell_type": "markdown",
   "metadata": {
    "id": "RAU2F-3Mcgsr"
   },
   "source": [
    "Tablicę _image_ z poprzedniego zadania posortuj wzdłuż kolumny rosnąco. Następnie dzięki funkcji _cv2_imshow()_ wyświetl otrzymany obraz."
   ]
  },
  {
   "cell_type": "code",
   "execution_count": null,
   "metadata": {
    "id": "EAvOxzhRbprl"
   },
   "outputs": [],
   "source": [
    "image.sort(axis=0)"
   ]
  }
 ],
 "metadata": {
  "colab": {
   "provenance": []
  },
  "kernelspec": {
   "display_name": "Python 3",
   "language": "python",
   "name": "python3"
  },
  "language_info": {
   "codemirror_mode": {
    "name": "ipython",
    "version": 3
   },
   "file_extension": ".py",
   "mimetype": "text/x-python",
   "name": "python",
   "nbconvert_exporter": "python",
   "pygments_lexer": "ipython3",
   "version": "3.9.11"
  }
 },
 "nbformat": 4,
 "nbformat_minor": 1
}
