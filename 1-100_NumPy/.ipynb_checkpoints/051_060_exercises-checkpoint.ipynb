{
 "cells": [
  {
   "cell_type": "markdown",
   "metadata": {
    "id": "WLEgCW5F1hho"
   },
   "source": [
    "## Numpy\n",
    "\n",
    "### Spis treści:\n",
    "* [Import biblioteki](#0)\n",
    "* [Ćwiczenie 51](#1)\n",
    "* [Ćwiczenie 52](#2)\n",
    "* [Ćwiczenie 53](#3)\n",
    "* [Ćwiczenie 54](#4)\n",
    "* [Ćwiczenie 55](#5)\n",
    "* [Ćwiczenie 56](#6)\n",
    "* [Ćwiczenie 57](#7)\n",
    "* [Ćwiczenie 58](#8)\n",
    "* [Ćwiczenie 59](#9)\n",
    "* [Ćwiczenie 60](#10)"
   ]
  },
  {
   "cell_type": "markdown",
   "metadata": {
    "id": "zeLOLmTj1kBM"
   },
   "source": [
    "### <a name='0'></a>Import biblioteki"
   ]
  },
  {
   "cell_type": "code",
   "execution_count": 16,
   "metadata": {
    "id": "HXMB7SMe1Wnz"
   },
   "outputs": [
    {
     "data": {
      "text/plain": [
       "'1.21.5'"
      ]
     },
     "execution_count": 16,
     "metadata": {},
     "output_type": "execute_result"
    }
   ],
   "source": [
    "import numpy as np\n",
    "\n",
    "np.random.seed(42)\n",
    "np.__version__"
   ]
  },
  {
   "cell_type": "markdown",
   "metadata": {
    "id": "cyc70pMe1oCg"
   },
   "source": [
    "### <a name='1'></a> Ćwiczenie 51\n",
    "Podane są poniżej dwie tablice $A$ i $B$:\n",
    "\n",
    "\n",
    "```\n",
    "A = np.array([[3, 4, 5],\n",
    "              [8, 3, 1]])\n",
    "B = np.array([[0, 5, 2],\n",
    "              [4, 2, 1]])\n",
    "```\n",
    "* Połącz te tablice w następujący sposób:\n",
    "\n",
    "\n",
    "```\n",
    "array([[3, 4, 5],\n",
    "       [8, 3, 1],\n",
    "       [0, 5, 2],\n",
    "       [4, 2, 1]])\n",
    "```\n",
    "__Wskazówka:__ Wykorzystaj funkcję _np.concatenate()_.\n",
    "\n",
    "\n",
    "\n"
   ]
  },
  {
   "cell_type": "code",
   "execution_count": 4,
   "metadata": {
    "id": "G06kZluT8eIh"
   },
   "outputs": [
    {
     "data": {
      "text/plain": [
       "array([[3, 4, 5],\n",
       "       [8, 3, 1],\n",
       "       [0, 5, 2],\n",
       "       [4, 2, 1]])"
      ]
     },
     "execution_count": 4,
     "metadata": {},
     "output_type": "execute_result"
    }
   ],
   "source": [
    "A = np.array([[3, 4, 5],\n",
    "              [8, 3, 1]])\n",
    "B = np.array([[0, 5, 2],\n",
    "              [4, 2, 1]])\n",
    "\n",
    "tabA1 = np.concatenate((A, B))\n",
    "\n",
    "tabA1"
   ]
  },
  {
   "cell_type": "markdown",
   "metadata": {
    "id": "ODw_gitA98Ul"
   },
   "source": [
    "* Połącz te tablice w następujący sposób:\n",
    "\n",
    "\n",
    "```\n",
    "array([[3, 4, 5, 0, 5, 2],\n",
    "       [8, 3, 1, 4, 2, 1]])\n",
    "```\n",
    "__Wskazówka:__ Wykorzystaj funkcję _np.concatenate()_."
   ]
  },
  {
   "cell_type": "code",
   "execution_count": 6,
   "metadata": {
    "id": "1pmGjLj88tcf"
   },
   "outputs": [
    {
     "data": {
      "text/plain": [
       "array([[3, 4, 5, 0, 5, 2],\n",
       "       [8, 3, 1, 4, 2, 1]])"
      ]
     },
     "execution_count": 6,
     "metadata": {},
     "output_type": "execute_result"
    }
   ],
   "source": [
    "tabA2 = np.concatenate((A, B), axis=1)\n",
    "\n",
    "tabA2"
   ]
  },
  {
   "cell_type": "markdown",
   "metadata": {
    "id": "J9pY1rtr1sC0"
   },
   "source": [
    "### <a name='2'></a> Ćwiczenie 52\n",
    "Podana jest tablica zawierająca dane _data_ oraz tablica zawierająca docelową klasę dla danego wiersza _target_:\n",
    "\n",
    "```\n",
    "data = np.array([[4.3, 4.2],\n",
    "                 [3.1, 3.6]])\n",
    "target = np.array([[0],\n",
    "                   [1]])\n",
    "```\n",
    "\n"
   ]
  },
  {
   "cell_type": "markdown",
   "metadata": {
    "id": "8cAKF7ok-RjX"
   },
   "source": [
    "Połącz te tablice w jedną tak jak pokazano poniżej:\n",
    "\n",
    "\n",
    "```\n",
    "array([[4.3, 4.2, 0. ],\n",
    "       [3.1, 3.6, 1. ]])\n",
    "```\n",
    "\n"
   ]
  },
  {
   "cell_type": "code",
   "execution_count": 8,
   "metadata": {
    "id": "4lc68Wfr8z3u"
   },
   "outputs": [
    {
     "data": {
      "text/plain": [
       "array([[4.3, 4.2, 0. ],\n",
       "       [3.1, 3.6, 1. ]])"
      ]
     },
     "execution_count": 8,
     "metadata": {},
     "output_type": "execute_result"
    }
   ],
   "source": [
    "data = np.array([[4.3, 4.2],\n",
    "                 [3.1, 3.6]])\n",
    "target = np.array([[0],\n",
    "                   [1]])\n",
    "\n",
    "tabB = np.concatenate((data, target), axis=1)\n",
    "\n",
    "tabB"
   ]
  },
  {
   "cell_type": "markdown",
   "metadata": {
    "id": "XQLYT2m11wVG"
   },
   "source": [
    "### <a name='3'></a> Ćwiczenie 53\n",
    "Podane są trzy poniższe jednowymiarowe tablice:  \n",
    "\n",
    "\n",
    "```\n",
    "feature1 = np.array([1.6, 0.9, 2.2])\n",
    "feature2 = np.array([0.4, 1.3, 3.2])\n",
    "feature3 = np.array([1.4, 0.3, 1.2])\n",
    "```\n",
    "Przekształć każdą z tych tablic w kolumnę i sklej w jedną dużą tablicę.\n",
    "\n",
    "__Oczekiwany wynik:__\n",
    "\n",
    "\n",
    "```\n",
    "array([[1.6, 0.4, 1.4],\n",
    "       [0.9, 1.3, 0.3],\n",
    "       [2.2, 3.2, 1.2]])\n",
    "```\n",
    "\n",
    "__Wskazówka:__ Wykorzystaj funkcję _np.column_stack()_.\n",
    "\n"
   ]
  },
  {
   "cell_type": "code",
   "execution_count": 9,
   "metadata": {
    "id": "xfPf_vq7-jBP"
   },
   "outputs": [
    {
     "data": {
      "text/plain": [
       "array([[1.6, 0.4, 1.4],\n",
       "       [0.9, 1.3, 0.3],\n",
       "       [2.2, 3.2, 1.2]])"
      ]
     },
     "execution_count": 9,
     "metadata": {},
     "output_type": "execute_result"
    }
   ],
   "source": [
    "feature1 = np.array([1.6, 0.9, 2.2])\n",
    "feature2 = np.array([0.4, 1.3, 3.2])\n",
    "feature3 = np.array([1.4, 0.3, 1.2])\n",
    "\n",
    "tabC = np.column_stack((feature1, feature2, feature3))\n",
    "\n",
    "tabC"
   ]
  },
  {
   "cell_type": "markdown",
   "metadata": {
    "id": "4xTKSUzg10MK"
   },
   "source": [
    "### <a name='4'></a> Ćwiczenie 54\n",
    "Podana jest poniższa dwuwymiarowa tablica:\n",
    "\n",
    "```\n",
    "A = np.random.randint(low=0, high=7, size=(5, 8))\n",
    "A[:, :2] = 0\n",
    "A[:, -2:] = 1\n",
    "A\n",
    "```\n",
    "```\n",
    "array([[0, 0, 4, 6, 2, 4, 1, 1],\n",
    "       [0, 0, 6, 2, 2, 4, 1, 1],\n",
    "       [0, 0, 1, 3, 5, 5, 1, 1],\n",
    "       [0, 0, 3, 1, 5, 4, 1, 1],\n",
    "       [0, 0, 2, 6, 1, 3, 1, 1]])\n",
    "```\n",
    "\n",
    "Podziel tablicę na 3 części tak aby pierwsze dwie kolumny stanowiły pierwszą tablicę $A1$, cztery kolejne drugą tablicę $A2$ oraz dwie ostatnie trzecią tablicę $A3$.\n",
    "\n",
    "__Wskazówka:__ Wykorzystaj funkcję _np.split()_."
   ]
  },
  {
   "cell_type": "code",
   "execution_count": 10,
   "metadata": {
    "id": "U5MFrLUHBsEf"
   },
   "outputs": [
    {
     "name": "stdout",
     "output_type": "stream",
     "text": [
      "A1:\n",
      "[[0 0]\n",
      " [0 0]\n",
      " [0 0]\n",
      " [0 0]\n",
      " [0 0]]\n",
      "A2:\n",
      "[[4 6 2 4]\n",
      " [6 2 2 4]\n",
      " [1 3 5 5]\n",
      " [3 1 5 4]\n",
      " [2 6 1 3]]\n",
      "A3:\n",
      "[[1 1]\n",
      " [1 1]\n",
      " [1 1]\n",
      " [1 1]\n",
      " [1 1]]\n"
     ]
    }
   ],
   "source": [
    "A = np.random.randint(low=0, high=7, size=(5, 8))\n",
    "A[:, :2] = 0\n",
    "A[:, -2:] = 1\n",
    "\n",
    "A1, A2, A3 = np.split(A, [2, 6], axis=1)\n",
    "\n",
    "print(\"A1:\")\n",
    "print(A1)\n",
    "print(\"A2:\")\n",
    "print(A2)\n",
    "print(\"A3:\")\n",
    "print(A3)"
   ]
  },
  {
   "cell_type": "markdown",
   "metadata": {
    "id": "o3HKIKlP15Ro"
   },
   "source": [
    "### <a name='5'></a> Ćwiczenie 55\n",
    "Podana jest poniższa tablica $A$:\n",
    "\n",
    "```\n",
    "A = np.random.randint(low=0, high=2, size=(10, 6))\n",
    "```\n",
    "Wyznacz łączną liczbę elementów niezerowych dla tej tablicy.\n",
    "\n",
    "__Wskazówka:__ Wykorzystaj funkcję _np.count_nonzero()_.\n"
   ]
  },
  {
   "cell_type": "code",
   "execution_count": 11,
   "metadata": {
    "id": "j5E2nOFyDy1b"
   },
   "outputs": [
    {
     "data": {
      "text/plain": [
       "38"
      ]
     },
     "execution_count": 11,
     "metadata": {},
     "output_type": "execute_result"
    }
   ],
   "source": [
    "A = np.random.randint(low=0, high=2, size=(10, 6))\n",
    "\n",
    "tabE1 = np.count_nonzero(A)\n",
    "\n",
    "tabE1"
   ]
  },
  {
   "cell_type": "markdown",
   "metadata": {
    "id": "wJde65uYhJ2f"
   },
   "source": [
    "Wyznacz łączną liczbę elementów niezerowych dla każdego wiersza tej tablicy.\n",
    "\n",
    "__Wskazówka:__ Wykorzystaj funkcję _np.count_nonzero()_."
   ]
  },
  {
   "cell_type": "code",
   "execution_count": 12,
   "metadata": {
    "id": "BWG-icQuEEPS"
   },
   "outputs": [
    {
     "data": {
      "text/plain": [
       "array([4, 2, 1, 5, 4, 3, 3, 6, 4, 6])"
      ]
     },
     "execution_count": 12,
     "metadata": {},
     "output_type": "execute_result"
    }
   ],
   "source": [
    "tabE2 = np.count_nonzero(A, axis=1)\n",
    "\n",
    "tabE2"
   ]
  },
  {
   "cell_type": "markdown",
   "metadata": {
    "id": "PunXd_Ey16so"
   },
   "source": [
    "### <a name='6'></a> Ćwiczenie 56\n",
    "Poniżej podana jest przykładowa tablica $A$:\n",
    "\n",
    "```\n",
    "A = np.random.randn(10, 4)\n",
    "```\n",
    "\n",
    "```\n",
    "array([[-0.53441645, -1.49505387, -0.78925833,  0.74371128],\n",
    "       [-0.21216142, -0.42686879,  0.50144833,  1.15818665],\n",
    "       [ 0.25711687,  0.3145129 ,  1.37186213,  0.17555329],\n",
    "       [-0.30928855,  0.6731255 , -0.25663018, -0.36782572],\n",
    "       [ 1.27373362, -0.29195267, -2.65517605,  0.34551794],\n",
    "       [-0.39551645, -0.28913686,  0.45293633, -0.16606091],\n",
    "       [ 0.21493883, -2.02231493, -0.94305681,  1.40395874],\n",
    "       [-0.0185508 , -1.67350462, -1.07253183, -0.99258618],\n",
    "       [ 0.10234768, -0.43260928, -0.6591823 ,  0.0039373 ],\n",
    "       [ 0.4777541 , -0.25902864, -0.57470921, -0.42149822]])\n",
    "```\n",
    "\n",
    "\n",
    "Ustaw odopowiednią opcję biblioteki numpy pozwalającą drukować tablice z określoną precyzją. Ustaw jej wartość na 4 i wydrukuj tablicę $A$.\n",
    "\n"
   ]
  },
  {
   "cell_type": "code",
   "execution_count": 13,
   "metadata": {
    "id": "aL6C9MYSYkaL"
   },
   "outputs": [
    {
     "data": {
      "text/plain": [
       "array([[ 0.7385,  0.1714, -0.1156, -0.3011],\n",
       "       [-1.4785, -0.7198, -0.4606,  1.0571],\n",
       "       [ 0.3436, -1.763 ,  0.3241, -0.3851],\n",
       "       [-0.6769,  0.6117,  1.031 ,  0.9313],\n",
       "       [-0.8392, -0.3092,  0.3313,  0.9755],\n",
       "       [-0.4792, -0.1857, -1.1063, -1.1962],\n",
       "       [ 0.8125,  1.3562, -0.072 ,  1.0035],\n",
       "       [ 0.3616, -0.6451,  0.3614,  1.538 ],\n",
       "       [-0.0358,  1.5646, -2.6197,  0.8219],\n",
       "       [ 0.087 , -0.299 ,  0.0918, -1.9876]])"
      ]
     },
     "execution_count": 13,
     "metadata": {},
     "output_type": "execute_result"
    }
   ],
   "source": [
    "np.set_printoptions(precision=4)\n",
    "A = np.random.randn(10, 4)\n",
    "\n",
    "A"
   ]
  },
  {
   "cell_type": "markdown",
   "metadata": {
    "id": "hOhqDRz618Tx"
   },
   "source": [
    "### <a name='7'></a> Ćwiczenie 57\n",
    "Podana jest poniższa tablica numpy $A$:\n",
    "\n",
    "```\n",
    "A = np.array([1.2e-6, 1.7e-7])\n",
    "```\n",
    "\n",
    "Ustaw wartość precyzji na 8. Następnie ustaw odopowiednią opcję biblioteki numpy pozwalającą stłumić notację wykładniczą. Wydrukuj tablicę $A$.\n",
    "\n",
    "__Oczekiwany wynik:__\n",
    "\n",
    "\n",
    "```\n",
    "array([0.0000012 , 0.00000017])\n",
    "```\n",
    "\n",
    "\n",
    "\n"
   ]
  },
  {
   "cell_type": "code",
   "execution_count": 14,
   "metadata": {
    "id": "BUr3XXiWdUWi"
   },
   "outputs": [
    {
     "data": {
      "text/plain": [
       "array([0.0000012 , 0.00000017])"
      ]
     },
     "execution_count": 14,
     "metadata": {},
     "output_type": "execute_result"
    }
   ],
   "source": [
    "A = np.array([1.2e-6, 1.7e-7])\n",
    "\n",
    "np.set_printoptions(precision=8, suppress=True)\n",
    "\n",
    "A"
   ]
  },
  {
   "cell_type": "markdown",
   "metadata": {
    "id": "TXUd_4631-gw"
   },
   "source": [
    "### <a name='8'></a> Ćwiczenie 58\n",
    "Podana jest poniższa tablica numpy $A$:\n",
    "\n",
    "```\n",
    "A = np.random.randn(8, 4)\n",
    "```\n",
    "Usuń trzecią kolumnę z tablicy $A$.\n",
    "\n",
    "__Oczekiwany wynik:__\n",
    "\n",
    "\n",
    "```\n",
    "array([[-0.55692881, -0.66003196,  0.70856031],\n",
    "       [ 0.22378737, -0.19796576, -0.16889332],\n",
    "       [ 0.26062786,  0.29865445, -0.92259267],\n",
    "       [-2.40317659,  1.79961876, -1.96495796],\n",
    "       [ 0.13051561, -1.7085185 ,  0.54885043],\n",
    "       [ 1.77268727,  0.38751181, -0.05141955],\n",
    "       [-1.80858596, -0.45075211,  0.15332866],\n",
    "       [ 1.94218961, -1.93679529, -1.83350954]])\n",
    "```\n",
    "__Wskazówka:__ Wykorzystaj funkcję _np.delete()_.\n",
    "\n",
    "\n"
   ]
  },
  {
   "cell_type": "code",
   "execution_count": 19,
   "metadata": {
    "id": "o5PxnILogU6z"
   },
   "outputs": [
    {
     "data": {
      "text/plain": [
       "array([[ 0.81252582,  1.35624003,  1.0035329 ],\n",
       "       [ 0.36163603, -0.64511975,  1.53803657],\n",
       "       [-0.03582604,  1.56464366,  0.8219025 ],\n",
       "       [ 0.08704707, -0.29900735, -1.98756891],\n",
       "       [-0.21967189,  0.35711257, -0.51827022],\n",
       "       [-0.8084936 , -0.50175704,  0.32875111],\n",
       "       [-0.5297602 ,  0.51326743,  0.96864499],\n",
       "       [-0.70205309, -0.32766215, -1.46351495]])"
      ]
     },
     "execution_count": 19,
     "metadata": {},
     "output_type": "execute_result"
    }
   ],
   "source": [
    "A = np.random.randn(8, 4)\n",
    "\n",
    "tabF = np.delete(A, 2, axis = 1)\n",
    "\n",
    "tabF"
   ]
  },
  {
   "cell_type": "markdown",
   "metadata": {
    "id": "tgI6xEn-2AQo"
   },
   "source": [
    "### <a name='9'></a> Ćwiczenie 59\n",
    "Podana jest tablica jednowymiarowa $v$ (wektor):\n",
    "\n",
    "```\n",
    "v = np.array([3, 4, -2])\n",
    "```\n",
    "Policz normę wektora $v$.\n"
   ]
  },
  {
   "cell_type": "code",
   "execution_count": 20,
   "metadata": {
    "id": "TYPzAZCwi-Ky"
   },
   "outputs": [
    {
     "data": {
      "text/plain": [
       "5.385164807134504"
      ]
     },
     "execution_count": 20,
     "metadata": {},
     "output_type": "execute_result"
    }
   ],
   "source": [
    "v = np.array([3, 4, -2])\n",
    "\n",
    "norm_vekt = np.linalg.norm(v)\n",
    "\n",
    "norm_vekt"
   ]
  },
  {
   "cell_type": "markdown",
   "metadata": {
    "id": "wxhpf-uq2B1I"
   },
   "source": [
    "### <a name='10'></a> Ćwiczenie 60\n",
    "Poniżej podana jest przykładowa tablica $A$:\n",
    "\n",
    "\n",
    "```\n",
    "A = np.random.randint(10, size=(100, 30))\n",
    "```\n",
    "Ustaw odopowiednią opcję biblioteki numpy pozwalającą drukować 10 skrajnych elementów. Wydrukuj tablicę $A$.\n"
   ]
  },
  {
   "cell_type": "code",
   "execution_count": 21,
   "metadata": {
    "id": "liJX2nIBk-gO"
   },
   "outputs": [
    {
     "data": {
      "text/plain": [
       "array([[3, 8, 2, 6, 5, 7, 8, 4, 0, 2, ..., 6, 1, 2, 0, 4, 0, 7, 0, 0, 1],\n",
       "       [1, 5, 6, 4, 0, 0, 2, 1, 4, 9, ..., 1, 5, 5, 0, 8, 5, 2, 3, 3, 2],\n",
       "       [9, 2, 2, 3, 6, 3, 8, 0, 7, 6, ..., 9, 8, 3, 0, 1, 0, 4, 4, 6, 8],\n",
       "       [8, 2, 2, 2, 3, 7, 5, 7, 0, 7, ..., 8, 1, 1, 1, 5, 2, 8, 3, 0, 3],\n",
       "       [0, 4, 3, 7, 7, 6, 2, 0, 0, 2, ..., 0, 0, 4, 2, 3, 2, 0, 0, 4, 5],\n",
       "       [2, 8, 4, 7, 0, 4, 2, 0, 3, 4, ..., 7, 1, 5, 6, 1, 9, 1, 9, 0, 7],\n",
       "       [0, 8, 5, 6, 9, 6, 9, 2, 1, 8, ..., 1, 1, 6, 5, 2, 8, 9, 5, 9, 9],\n",
       "       [5, 0, 3, 9, 5, 5, 4, 0, 7, 4, ..., 9, 2, 0, 7, 2, 9, 6, 9, 4, 9],\n",
       "       [4, 6, 8, 4, 0, 9, 9, 0, 1, 5, ..., 2, 4, 5, 8, 4, 0, 3, 4, 9, 9],\n",
       "       [4, 6, 3, 0, 4, 6, 9, 9, 5, 4, ..., 3, 7, 6, 1, 0, 3, 7, 1, 2, 0],\n",
       "       ...,\n",
       "       [8, 3, 2, 0, 1, 7, 0, 7, 6, 7, ..., 3, 8, 2, 3, 6, 6, 3, 5, 2, 5],\n",
       "       [1, 7, 1, 6, 8, 0, 7, 6, 5, 5, ..., 8, 0, 2, 7, 2, 3, 7, 0, 5, 0],\n",
       "       [0, 7, 3, 0, 9, 6, 4, 4, 0, 9, ..., 2, 6, 6, 8, 6, 2, 0, 7, 2, 7],\n",
       "       [7, 4, 0, 9, 6, 9, 4, 7, 8, 6, ..., 4, 2, 7, 3, 0, 0, 9, 2, 8, 6],\n",
       "       [1, 8, 9, 1, 2, 9, 1, 2, 5, 8, ..., 1, 0, 8, 2, 0, 6, 9, 4, 4, 0],\n",
       "       [8, 6, 7, 8, 5, 4, 5, 1, 3, 2, ..., 7, 9, 8, 5, 3, 0, 7, 6, 1, 7],\n",
       "       [4, 6, 3, 4, 7, 0, 0, 3, 2, 9, ..., 5, 0, 3, 0, 1, 4, 7, 7, 2, 3],\n",
       "       [9, 5, 9, 2, 1, 5, 4, 9, 4, 9, ..., 3, 0, 5, 3, 4, 4, 8, 0, 1, 5],\n",
       "       [4, 6, 2, 2, 9, 1, 2, 9, 0, 4, ..., 0, 2, 1, 7, 5, 8, 7, 9, 2, 4],\n",
       "       [6, 4, 7, 4, 0, 4, 3, 5, 2, 4, ..., 8, 9, 5, 0, 2, 2, 9, 3, 5, 6]])"
      ]
     },
     "execution_count": 21,
     "metadata": {},
     "output_type": "execute_result"
    }
   ],
   "source": [
    "A = np.random.randint(10, size=(100, 30))\n",
    "np.set_printoptions(edgeitems=10)\n",
    "\n",
    "A\n"
   ]
  }
 ],
 "metadata": {
  "colab": {
   "provenance": []
  },
  "kernelspec": {
   "display_name": "Python 3 (ipykernel)",
   "language": "python",
   "name": "python3"
  },
  "language_info": {
   "codemirror_mode": {
    "name": "ipython",
    "version": 3
   },
   "file_extension": ".py",
   "mimetype": "text/x-python",
   "name": "python",
   "nbconvert_exporter": "python",
   "pygments_lexer": "ipython3",
   "version": "3.9.12"
  }
 },
 "nbformat": 4,
 "nbformat_minor": 1
}
