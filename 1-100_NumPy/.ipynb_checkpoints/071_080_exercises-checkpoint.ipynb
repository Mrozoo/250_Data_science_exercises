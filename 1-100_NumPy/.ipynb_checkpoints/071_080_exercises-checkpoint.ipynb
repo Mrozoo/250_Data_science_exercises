{
 "cells": [
  {
   "cell_type": "markdown",
   "metadata": {
    "id": "WLEgCW5F1hho"
   },
   "source": [
    "## Numpy\n",
    "\n",
    "### Spis treści:\n",
    "* [Import biblioteki](#0)\n",
    "* [Ćwiczenie 71](#1)\n",
    "* [Ćwiczenie 72](#2)\n",
    "* [Ćwiczenie 73](#3)\n",
    "* [Ćwiczenie 74](#4)\n",
    "* [Ćwiczenie 75](#5)\n",
    "* [Ćwiczenie 76](#6)\n",
    "* [Ćwiczenie 77](#7)\n",
    "* [Ćwiczenie 78](#8)\n",
    "* [Ćwiczenie 79](#9)\n",
    "* [Ćwiczenie 80](#10)"
   ]
  },
  {
   "cell_type": "markdown",
   "metadata": {
    "id": "zeLOLmTj1kBM"
   },
   "source": [
    "### <a name='0'></a>Import biblioteki"
   ]
  },
  {
   "cell_type": "code",
   "execution_count": 35,
   "metadata": {
    "id": "HXMB7SMe1Wnz"
   },
   "outputs": [
    {
     "data": {
      "text/plain": [
       "'1.24.2'"
      ]
     },
     "execution_count": 35,
     "metadata": {},
     "output_type": "execute_result"
    }
   ],
   "source": [
    "import numpy as np\n",
    "\n",
    "np.random.seed(42)\n",
    "np.__version__"
   ]
  },
  {
   "cell_type": "markdown",
   "metadata": {
    "id": "cyc70pMe1oCg"
   },
   "source": [
    "### <a name='1'></a> Ćwiczenie 71\n",
    "Podana jest poniższa tablica $A$:\n",
    "\n",
    "```\n",
    "A = np.array([['id', 'price'],\n",
    "              ['001', 14.99],\n",
    "              ['002', 4.99],\n",
    "              ['003', 7.99],\n",
    "              ['004', 2.49],\n",
    "              ['005', 1.49]])\n",
    "```\n",
    "Od drugiego wiersza tablicy $A$ przestaw losowo wiersze w tablicy.\n",
    "\n",
    "__Wskazówka:__ Użyj funkcji _np.random.shuffle()_.\n"
   ]
  },
  {
   "cell_type": "code",
   "execution_count": 6,
   "metadata": {
    "id": "RFIhGhiJtLW5"
   },
   "outputs": [
    {
     "name": "stdout",
     "output_type": "stream",
     "text": [
      "[['id' 'price']\n",
      " ['001' '14.99']\n",
      " ['003' '7.99']\n",
      " ['004' '2.49']\n",
      " ['002' '4.99']\n",
      " ['005' '1.49']]\n"
     ]
    }
   ],
   "source": [
    "A = np.array([['id', 'price'],\n",
    "              ['001', 14.99],\n",
    "              ['002', 4.99],\n",
    "              ['003', 7.99],\n",
    "              ['004', 2.49],\n",
    "              ['005', 1.49]])\n",
    "\n",
    "np.random.shuffle(A[1:])\n",
    "\n",
    "print(A)"
   ]
  },
  {
   "cell_type": "markdown",
   "metadata": {
    "id": "J9pY1rtr1sC0"
   },
   "source": [
    "### <a name='2'></a> Ćwiczenie 72\n",
    "Podana jest poniższa tablica $A$:\n",
    "\n",
    "```\n",
    "A = np.array([0.2, 0.15, 0.1, 0.3, 0.2, 0.05])\n",
    "```\n",
    "Zwróć tablicę indeksów, które posortują tablicę $A$ rosnąco.\n",
    "\n",
    "__Oczekiwny wynik:__\n",
    "\n",
    "\n",
    "```\n",
    "array([5, 2, 1, 0, 4, 3])\n",
    "```\n",
    "__Wskazówka:__ Użyj funkcji _np.argsort()_.\n",
    "\n"
   ]
  },
  {
   "cell_type": "code",
   "execution_count": 7,
   "metadata": {
    "id": "JXEkxNh_wAwB"
   },
   "outputs": [
    {
     "data": {
      "text/plain": [
       "array([5, 2, 1, 0, 4, 3], dtype=int64)"
      ]
     },
     "execution_count": 7,
     "metadata": {},
     "output_type": "execute_result"
    }
   ],
   "source": [
    "A = np.array([0.2, 0.15, 0.1, 0.3, 0.2, 0.05])\n",
    "\n",
    "tabA = np.argsort(A)\n",
    "\n",
    "tabA"
   ]
  },
  {
   "cell_type": "markdown",
   "metadata": {
    "id": "XQLYT2m11wVG"
   },
   "source": [
    "### <a name='3'></a> Ćwiczenie 73\n",
    "Podana jest poniższa tablica $A$:\n",
    "\n",
    "```\n",
    "A = np.random.randn(10, 8)\n",
    "```\n",
    "\n",
    "Zaokrąglij wartości tej tablicy do trzeciego miejsca po przecinku.\n",
    "\n",
    "__Wskazówka:__ Użyj funkcji _np.round()_."
   ]
  },
  {
   "cell_type": "code",
   "execution_count": 8,
   "metadata": {
    "id": "oh4E35mU0ikP"
   },
   "outputs": [
    {
     "data": {
      "text/plain": [
       "array([[ 1.462,  1.539, -2.439,  0.603, -0.251, -0.164, -1.476,  1.487],\n",
       "       [-0.024,  0.356,  0.417,  0.832, -0.293, -0.03 ,  0.095,  0.665],\n",
       "       [-0.14 , -0.033, -0.749, -0.778,  0.949,  1.581, -0.368,  0.376],\n",
       "       [-1.193, -0.409, -0.447,  1.524,  0.323, -1.393, -2.178, -1.044],\n",
       "       [ 0.173,  0.324,  0.746, -1.837,  0.564,  0.026,  0.473,  0.659],\n",
       "       [ 2.341,  1.071,  0.096,  0.419, -0.953, -1.048, -1.876, -1.367],\n",
       "       [ 0.636, -0.907,  0.476,  1.304,  0.212,  0.597, -0.896, -0.112],\n",
       "       [ 1.469, -1.124,  0.95 ,  1.727,  0.458, -1.684,  0.327, -0.081],\n",
       "       [ 0.468,  0.736, -0.78 , -0.844, -0.151, -0.966,  0.15 , -0.113],\n",
       "       [ 2.634, -1.025, -0.782,  0.424,  0.873,  2.287,  1.623,  0.824]])"
      ]
     },
     "execution_count": 8,
     "metadata": {},
     "output_type": "execute_result"
    }
   ],
   "source": [
    "A = np.random.randn(10, 8)\n",
    "\n",
    "tabB = np.round(A, 3)\n",
    "\n",
    "tabB"
   ]
  },
  {
   "cell_type": "markdown",
   "metadata": {
    "id": "4xTKSUzg10MK"
   },
   "source": [
    "### <a name='4'></a> Ćwiczenie 74\n",
    "Wyznacz pierwiastki wielomianu:\n",
    "* $W(x) = 4x^2 + 5x + 1$\n",
    "\n",
    "\n",
    "__Wskazówka:__ Użyj funkcji _np.roots()_ oraz _np.polyval()_."
   ]
  },
  {
   "cell_type": "code",
   "execution_count": 10,
   "metadata": {
    "id": "RjwHkYO86qeM"
   },
   "outputs": [
    {
     "name": "stdout",
     "output_type": "stream",
     "text": [
      "Pierwiastki wielomianu:  [-1.   -0.25]\n",
      "W(-1.0) = 0.0\n",
      "W(-0.25) = 0.0\n"
     ]
    }
   ],
   "source": [
    "# Wektor współczynników wielomianu W(x) = 4x^2 + 5x + 1\n",
    "coefficients = [4, 5, 1]\n",
    "\n",
    "# Wyznaczanie pierwiastków wielomianu\n",
    "roots = np.roots(coefficients)\n",
    "\n",
    "print(\"Pierwiastki wielomianu: \", roots)\n",
    "\n",
    "for root in roots:\n",
    "    value = np.polyval(coefficients, root)\n",
    "    print(f\"W({root}) = {value}\")"
   ]
  },
  {
   "cell_type": "markdown",
   "metadata": {
    "id": "YDKyTjl59GcT"
   },
   "source": [
    "Dokonaj sprawdzenia."
   ]
  },
  {
   "cell_type": "code",
   "execution_count": null,
   "metadata": {
    "id": "8ryP41w78rvf"
   },
   "outputs": [],
   "source": [
    "# tutaj wpisz rozwiązanie"
   ]
  },
  {
   "cell_type": "markdown",
   "metadata": {
    "id": "o3HKIKlP15Ro"
   },
   "source": [
    "### <a name='5'></a> Ćwiczenie 75\n",
    "Wyznacz pierwiastki wielomianów:\n",
    "* $Q(x) = 2x^3 + 4x^2 -5x + 1$\n",
    "* $R(x) = 2x^3 -5x + 1$\n",
    "\n",
    "__Wskazówka:__ Użyj funkcji _np.roots()_."
   ]
  },
  {
   "cell_type": "code",
   "execution_count": 11,
   "metadata": {
    "id": "Kxjx96O57wTY"
   },
   "outputs": [
    {
     "name": "stdout",
     "output_type": "stream",
     "text": [
      "Pierwiastki wielomianu Q(x):  [-2.91610583  0.65388685  0.26221898]\n",
      "Pierwiastki wielomianu R(x):  [-1.67298165  1.46961743  0.20336421]\n"
     ]
    }
   ],
   "source": [
    "# Wektory współczynników dla wielomianów Q(x) i R(x)\n",
    "Q = [2, 4, -5, 1]\n",
    "R = [2, 0, -5, 1]\n",
    "\n",
    "# Wyznaczanie pierwiastków wielomianów\n",
    "roots_Q = np.roots(Q)\n",
    "roots_R = np.roots(R)\n",
    "\n",
    "print(\"Pierwiastki wielomianu Q(x): \", roots_Q)\n",
    "print(\"Pierwiastki wielomianu R(x): \", roots_R)"
   ]
  },
  {
   "cell_type": "code",
   "execution_count": 12,
   "metadata": {},
   "outputs": [
    {
     "name": "stdout",
     "output_type": "stream",
     "text": [
      "Q(-2.916105827293624) = 6.217248937900877e-15\n",
      "Q(0.6538868491936156) = 4.6629367034256575e-15\n",
      "Q(0.2622189781000103) = 2.220446049250313e-16\n",
      "R(-1.672981647854943) = -1.0658141036401503e-14\n",
      "R(1.4696174340580384) = 9.658940314238862e-15\n",
      "R(0.2033642137969051) = -2.220446049250313e-16\n"
     ]
    }
   ],
   "source": [
    "# Sprawdzenie poprawności wyniku dla wielomianu Q(x)\n",
    "for root in roots_Q:\n",
    "    value = np.polyval(Q, root)\n",
    "    print(f\"Q({root}) = {value}\")\n",
    "\n",
    "# Sprawdzenie poprawności wyniku dla wielomianu R(x)\n",
    "for root in roots_R:\n",
    "    value = np.polyval(R, root)\n",
    "    print(f\"R({root}) = {value}\")"
   ]
  },
  {
   "cell_type": "markdown",
   "metadata": {
    "id": "PunXd_Ey16so"
   },
   "source": [
    "### <a name='6'></a> Ćwiczenie 76\n",
    "Podane są wielomiany:\n",
    "\n",
    "* $W(x) = 4x^2 + 5x + 1$\n",
    "* $Q(x) = 2x^3 + 4x^2 -5x + 1$\n"
   ]
  },
  {
   "cell_type": "code",
   "execution_count": 16,
   "metadata": {
    "id": "D-XbUU9Nln5y"
   },
   "outputs": [],
   "source": [
    "W = np.array([4, 5, 1])\n",
    "Q = np.array([2, 4, -5, 1])"
   ]
  },
  {
   "cell_type": "markdown",
   "metadata": {
    "id": "vYiT4ikklqaQ"
   },
   "source": [
    "Wykonaj działania:\n",
    "* $W(x) + Q(x)$"
   ]
  },
  {
   "cell_type": "code",
   "execution_count": 36,
   "metadata": {
    "id": "9JKvun7C9raH"
   },
   "outputs": [
    {
     "data": {
      "text/plain": [
       "array([2, 8, 0, 2])"
      ]
     },
     "execution_count": 36,
     "metadata": {},
     "output_type": "execute_result"
    }
   ],
   "source": [
    "np.polyadd(W,Q)"
   ]
  },
  {
   "cell_type": "markdown",
   "metadata": {
    "id": "f6qXMj30lhrn"
   },
   "source": [
    "* $W(x) - Q(x)$\n"
   ]
  },
  {
   "cell_type": "code",
   "execution_count": 37,
   "metadata": {
    "id": "HFlLC37f94Lr"
   },
   "outputs": [
    {
     "data": {
      "text/plain": [
       "array([-2,  0, 10,  0])"
      ]
     },
     "execution_count": 37,
     "metadata": {},
     "output_type": "execute_result"
    }
   ],
   "source": [
    "np.polysub(W,Q)"
   ]
  },
  {
   "cell_type": "markdown",
   "metadata": {
    "id": "o8xnmuwfljHU"
   },
   "source": [
    "* $W(x) * Q(x)$\n"
   ]
  },
  {
   "cell_type": "code",
   "execution_count": 38,
   "metadata": {
    "id": "Z4B28oMe-p8J"
   },
   "outputs": [
    {
     "data": {
      "text/plain": [
       "array([  8,  26,   2, -17,   0,   1])"
      ]
     },
     "execution_count": 38,
     "metadata": {},
     "output_type": "execute_result"
    }
   ],
   "source": [
    "np.polymul(W,Q)"
   ]
  },
  {
   "cell_type": "markdown",
   "metadata": {
    "id": "BIHBf0PllkXe"
   },
   "source": [
    "* $W(x) + 2Q(x)$"
   ]
  },
  {
   "cell_type": "code",
   "execution_count": 39,
   "metadata": {
    "id": "UbaoDx6E-90V"
   },
   "outputs": [
    {
     "data": {
      "text/plain": [
       "array([ 4, 12, -5,  3])"
      ]
     },
     "execution_count": 39,
     "metadata": {},
     "output_type": "execute_result"
    }
   ],
   "source": [
    "np.polyadd(W, 2 * Q)"
   ]
  },
  {
   "cell_type": "markdown",
   "metadata": {
    "id": "hOhqDRz618Tx"
   },
   "source": [
    "### <a name='7'></a> Ćwiczenie 77\n",
    "Podana jest poniższa tablica:\n",
    "\n",
    "```\n",
    "A = np.array([[-4, 3, 0, 1, -5],\n",
    "              [6, -4, -2, 1, 3]])\n",
    "```\n",
    "\n",
    "Użyj funkcji znaku (_sign function_) dla tablicy $A$. Dla przypomnienia funkcja działa nastpująco: dla wartości ujemnych zwraca -1, dla zera wartość zero, dla wartości dodatnich 1.\n",
    "\n",
    "__Oczekiwany wynik:__\n",
    "\n",
    "\n",
    "```\n",
    "array([[-1,  1,  0,  1, -1],\n",
    "       [ 1, -1, -1,  1,  1]])\n",
    "```\n",
    "__Wskazówka:__ Użyj funkcji _np.sign()_.\n"
   ]
  },
  {
   "cell_type": "code",
   "execution_count": 21,
   "metadata": {
    "id": "bo-L_-_1AF0o"
   },
   "outputs": [
    {
     "data": {
      "text/plain": [
       "array([[-1,  1,  0,  1, -1],\n",
       "       [ 1, -1, -1,  1,  1]])"
      ]
     },
     "execution_count": 21,
     "metadata": {},
     "output_type": "execute_result"
    }
   ],
   "source": [
    "A = np.array([[-4, 3, 0, 1, -5],\n",
    "              [6, -4, -2, 1, 3]])\n",
    "\n",
    "tabC = np.sign(A)\n",
    "\n",
    "tabC"
   ]
  },
  {
   "cell_type": "markdown",
   "metadata": {
    "id": "TXUd_4631-gw"
   },
   "source": [
    "### <a name='8'></a> Ćwiczenie 78\n",
    "Wykorzystując funkcję _np.arange()_ wygeneruj poniższą tablicę:\n",
    "\n",
    "\n",
    "```\n",
    "array(['2021-01-01', '2021-01-02', '2021-01-03', '2021-01-04',\n",
    "       '2021-01-05', '2021-01-06', '2021-01-07', '2021-01-08',\n",
    "       '2021-01-09', '2021-01-10', '2021-01-11', '2021-01-12',\n",
    "       '2021-01-13', '2021-01-14', '2021-01-15', '2021-01-16',\n",
    "       '2021-01-17', '2021-01-18', '2021-01-19', '2021-01-20',\n",
    "       '2021-01-21', '2021-01-22', '2021-01-23', '2021-01-24',\n",
    "       '2021-01-25', '2021-01-26', '2021-01-27', '2021-01-28',\n",
    "       '2021-01-29', '2021-01-30', '2021-01-31'], dtype='datetime64[D]')\n",
    "```\n",
    "\n"
   ]
  },
  {
   "cell_type": "code",
   "execution_count": 45,
   "metadata": {
    "id": "oAdYOzbJDFmv"
   },
   "outputs": [
    {
     "data": {
      "text/plain": [
       "array(['2021-01-01', '2021-01-02', '2021-01-03', '2021-01-04',\n",
       "       '2021-01-05', '2021-01-06', '2021-01-07', '2021-01-08',\n",
       "       '2021-01-09', '2021-01-10', '2021-01-11', '2021-01-12',\n",
       "       '2021-01-13', '2021-01-14', '2021-01-15', '2021-01-16',\n",
       "       '2021-01-17', '2021-01-18', '2021-01-19', '2021-01-20',\n",
       "       '2021-01-21', '2021-01-22', '2021-01-23', '2021-01-24',\n",
       "       '2021-01-25', '2021-01-26', '2021-01-27', '2021-01-28',\n",
       "       '2021-01-29', '2021-01-30', '2021-01-31'], dtype='datetime64[D]')"
      ]
     },
     "execution_count": 45,
     "metadata": {},
     "output_type": "execute_result"
    }
   ],
   "source": [
    "date_rangeA = np.arange('2021-01-01', '2021-02-01', dtype='datetime64[D]')\n",
    "\n",
    "date_rangeA"
   ]
  },
  {
   "cell_type": "markdown",
   "metadata": {
    "id": "tgI6xEn-2AQo"
   },
   "source": [
    "\n",
    "### <a name='9'></a> Ćwiczenie 79\n",
    "\n",
    "Wykorzystując funkcję _np.arange()_ wygeneruj poniższą tablicę:\n",
    "\n",
    "\n",
    "\n",
    "```\n",
    "array([['2021-01', '2021-02', '2021-03'],\n",
    "       ['2021-04', '2021-05', '2021-06'],\n",
    "       ['2021-07', '2021-08', '2021-09'],\n",
    "       ['2021-10', '2021-11', '2021-12']], dtype='datetime64[M]')\n",
    "```\n",
    "\n"
   ]
  },
  {
   "cell_type": "code",
   "execution_count": 46,
   "metadata": {
    "id": "oJRlRIThDehG"
   },
   "outputs": [
    {
     "data": {
      "text/plain": [
       "array(['2021-01', '2021-02', '2021-03', '2021-04', '2021-05', '2021-06',\n",
       "       '2021-07', '2021-08', '2021-09', '2021-10', '2021-11', '2021-12'],\n",
       "      dtype='datetime64[M]')"
      ]
     },
     "execution_count": 46,
     "metadata": {},
     "output_type": "execute_result"
    }
   ],
   "source": [
    "date_rangeB = np.arange('2021-01', '2022-01', dtype='datetime64[M]')\n",
    "\n",
    "date_rangeB"
   ]
  },
  {
   "cell_type": "markdown",
   "metadata": {
    "id": "wxhpf-uq2B1I"
   },
   "source": [
    "### <a name='10'></a> Ćwiczenie 80\n",
    "\n",
    "Wykorzystując funkcję _np.datetime64()_ wygeneruj dzisiejszą datę (datę w chwili robienia ćwiczenia)."
   ]
  },
  {
   "cell_type": "code",
   "execution_count": 34,
   "metadata": {
    "id": "YFc0KW6URsuc"
   },
   "outputs": [
    {
     "name": "stdout",
     "output_type": "stream",
     "text": [
      "2023-04-07\n"
     ]
    }
   ],
   "source": [
    "today = np.datetime64('today')\n",
    "\n",
    "print(today)"
   ]
  }
 ],
 "metadata": {
  "colab": {
   "provenance": []
  },
  "kernelspec": {
   "display_name": "Python 3 (ipykernel)",
   "language": "python",
   "name": "python3"
  },
  "language_info": {
   "codemirror_mode": {
    "name": "ipython",
    "version": 3
   },
   "file_extension": ".py",
   "mimetype": "text/x-python",
   "name": "python",
   "nbconvert_exporter": "python",
   "pygments_lexer": "ipython3",
   "version": "3.9.12"
  }
 },
 "nbformat": 4,
 "nbformat_minor": 1
}
